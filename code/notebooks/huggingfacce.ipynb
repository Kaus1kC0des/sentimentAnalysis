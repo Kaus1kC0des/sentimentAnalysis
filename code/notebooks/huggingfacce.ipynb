{
 "cells": [
  {
   "cell_type": "code",
   "execution_count": 3,
   "outputs": [
    {
     "data": {
      "text/plain": "'/tmp/pycharm_project_625/code'"
     },
     "execution_count": 3,
     "metadata": {},
     "output_type": "execute_result"
    }
   ],
   "source": [
    "pwd"
   ],
   "metadata": {
    "collapsed": false,
    "ExecuteTime": {
     "end_time": "2023-09-21T17:06:17.883508Z",
     "start_time": "2023-09-21T17:06:17.845287Z"
    }
   },
   "id": "aa17503f676f2674"
  },
  {
   "cell_type": "code",
   "execution_count": 4,
   "id": "initial_id",
   "metadata": {
    "collapsed": true,
    "ExecuteTime": {
     "end_time": "2023-09-21T17:12:24.906861Z",
     "start_time": "2023-09-21T17:07:17.172414Z"
    }
   },
   "outputs": [
    {
     "name": "stdout",
     "output_type": "stream",
     "text": [
      "Collecting pandas\r\n",
      "  Using cached pandas-2.0.3-cp38-cp38-manylinux_2_17_x86_64.manylinux2014_x86_64.whl (12.4 MB)\r\n",
      "Collecting numpy\r\n",
      "  Using cached numpy-1.24.4-cp38-cp38-manylinux_2_17_x86_64.manylinux2014_x86_64.whl (17.3 MB)\r\n",
      "Collecting seaborn\r\n",
      "  Downloading seaborn-0.12.2-py3-none-any.whl (293 kB)\r\n",
      "\u001B[K     |████████████████████████████████| 293 kB 2.3 MB/s eta 0:00:01\r\n",
      "\u001B[?25hCollecting matplotlib\r\n",
      "  Downloading matplotlib-3.7.3-cp38-cp38-manylinux_2_12_x86_64.manylinux2010_x86_64.whl (9.2 MB)\r\n",
      "\u001B[K     |████████████████████████████████| 9.2 MB 40.2 MB/s eta 0:00:01\r\n",
      "\u001B[?25hCollecting scipy\r\n",
      "  Downloading scipy-1.10.1-cp38-cp38-manylinux_2_17_x86_64.manylinux2014_x86_64.whl (34.5 MB)\r\n",
      "\u001B[K     |████████████████████████████████| 34.5 MB 56.3 MB/s eta 0:00:01\r\n",
      "\u001B[?25hCollecting scikit-learn\r\n",
      "  Downloading scikit_learn-1.3.1-cp38-cp38-manylinux_2_17_x86_64.manylinux2014_x86_64.whl (11.1 MB)\r\n",
      "\u001B[K     |████████████████████████████████| 11.1 MB 43.7 MB/s eta 0:00:01\r\n",
      "\u001B[?25hCollecting scikit-learn-intelex\r\n",
      "  Downloading scikit_learn_intelex-2023.2.1-py38-none-manylinux1_x86_64.whl (128 kB)\r\n",
      "\u001B[K     |████████████████████████████████| 128 kB 76.4 MB/s eta 0:00:01\r\n",
      "\u001B[?25hCollecting transformers\r\n",
      "  Downloading transformers-4.33.2-py3-none-any.whl (7.6 MB)\r\n",
      "\u001B[K     |████████████████████████████████| 7.6 MB 65.7 MB/s eta 0:00:01\r\n",
      "\u001B[?25hCollecting text_hammer\r\n",
      "  Downloading text_hammer-0.1.5-py3-none-any.whl (7.6 kB)\r\n",
      "Collecting spacy\r\n",
      "  Downloading spacy-3.6.1-cp38-cp38-manylinux_2_17_x86_64.manylinux2014_x86_64.whl (6.7 MB)\r\n",
      "\u001B[K     |████████████████████████████████| 6.7 MB 75.7 MB/s eta 0:00:01\r\n",
      "\u001B[?25hCollecting tensorflow\r\n",
      "  Downloading tensorflow-2.13.0-cp38-cp38-manylinux_2_17_x86_64.manylinux2014_x86_64.whl (524.1 MB)\r\n",
      "\u001B[K     |██████████████████▋             | 305.0 MB 126.7 MB/s eta 0:00:02"
     ]
    },
    {
     "name": "stderr",
     "output_type": "stream",
     "text": [
      "IOPub data rate exceeded.\n",
      "The Jupyter server will temporarily stop sending output\n",
      "to the client in order to avoid crashing it.\n",
      "To change this limit, set the config variable\n",
      "`--ServerApp.iopub_data_rate_limit`.\n",
      "\n",
      "Current values:\n",
      "ServerApp.iopub_data_rate_limit=1000000.0 (bytes/sec)\n",
      "ServerApp.rate_limit_window=3.0 (secs)\n",
      "\n"
     ]
    },
    {
     "name": "stdout",
     "output_type": "stream",
     "text": [
      "\u001B[K     |████████████████████████████████| 524.1 MB 24 kB/s /s eta 0:00:01\r\n",
      "\u001B[?25hCollecting opendatasets\r\n",
      "  Downloading opendatasets-0.1.22-py3-none-any.whl (15 kB)\r\n",
      "Collecting datasets\r\n",
      "  Downloading datasets-2.14.5-py3-none-any.whl (519 kB)\r\n",
      "\u001B[K     |████████████████████████████████| 519 kB 58.2 MB/s eta 0:00:01\r\n",
      "\u001B[?25hCollecting torch\r\n",
      "  Downloading torch-2.0.1-cp38-cp38-manylinux1_x86_64.whl (619.9 MB)\r\n",
      "\u001B[K     |███████████████▉                | 307.7 MB 140.0 MB/s eta 0:00:03   |████▉                           | 94.1 MB 83.0 MB/s eta 0:00:07"
     ]
    },
    {
     "name": "stderr",
     "output_type": "stream",
     "text": [
      "IOPub data rate exceeded.\n",
      "The Jupyter server will temporarily stop sending output\n",
      "to the client in order to avoid crashing it.\n",
      "To change this limit, set the config variable\n",
      "`--ServerApp.iopub_data_rate_limit`.\n",
      "\n",
      "Current values:\n",
      "ServerApp.iopub_data_rate_limit=1000000.0 (bytes/sec)\n",
      "ServerApp.rate_limit_window=3.0 (secs)\n",
      "\n"
     ]
    },
    {
     "name": "stdout",
     "output_type": "stream",
     "text": [
      "\u001B[K     |████████████████████████████████| 619.9 MB 7.6 kB/s s eta 0:00:01     |███████████████████████▏        | 449.0 MB 77.8 MB/s eta 0:00:03     |██████████████████████████▌     | 514.3 MB 77.8 MB/s eta 0:00:02     |███████████████████████████     | 525.0 MB 77.8 MB/s eta 0:00:02     |██████████████████████████████  | 580.9 MB 115.0 MB/s eta 0:00:01\r\n",
      "\u001B[?25hCollecting accelerate\r\n",
      "  Downloading accelerate-0.23.0-py3-none-any.whl (258 kB)\r\n",
      "\u001B[K     |████████████████████████████████| 258 kB 90.9 MB/s eta 0:00:01\r\n",
      "\u001B[?25hRequirement already satisfied: requests~=2.22.0 in /usr/lib/python3/dist-packages (from -r /tmp/pycharm_project_625/requirements.txt (line 17)) (2.22.0)\r\n",
      "Collecting pytz>=2020.1\r\n",
      "  Using cached pytz-2023.3.post1-py2.py3-none-any.whl (502 kB)\r\n",
      "Collecting tzdata>=2022.1\r\n",
      "  Using cached tzdata-2023.3-py2.py3-none-any.whl (341 kB)\r\n",
      "Collecting python-dateutil>=2.8.2\r\n",
      "  Using cached python_dateutil-2.8.2-py2.py3-none-any.whl (247 kB)\r\n",
      "Collecting kiwisolver>=1.0.1\r\n",
      "  Downloading kiwisolver-1.4.5-cp38-cp38-manylinux_2_5_x86_64.manylinux1_x86_64.whl (1.2 MB)\r\n",
      "\u001B[K     |████████████████████████████████| 1.2 MB 69.7 MB/s eta 0:00:01\r\n",
      "\u001B[?25hCollecting contourpy>=1.0.1\r\n",
      "  Downloading contourpy-1.1.1-cp38-cp38-manylinux_2_17_x86_64.manylinux2014_x86_64.whl (301 kB)\r\n",
      "\u001B[K     |████████████████████████████████| 301 kB 95.6 MB/s eta 0:00:01\r\n",
      "\u001B[?25hCollecting fonttools>=4.22.0\r\n",
      "  Downloading fonttools-4.42.1-cp38-cp38-manylinux_2_17_x86_64.manylinux2014_x86_64.whl (4.6 MB)\r\n",
      "\u001B[K     |████████████████████████████████| 4.6 MB 78.0 MB/s eta 0:00:01\r\n",
      "\u001B[?25hRequirement already satisfied: pyparsing>=2.3.1 in /home/kausik/.local/lib/python3.8/site-packages (from matplotlib->-r /tmp/pycharm_project_625/requirements.txt (line 4)) (3.1.1)\r\n",
      "Collecting pillow>=6.2.0\r\n",
      "  Downloading Pillow-10.0.1-cp38-cp38-manylinux_2_17_x86_64.manylinux2014_x86_64.whl (3.5 MB)\r\n",
      "\u001B[K     |████████████████████████████████| 3.5 MB 71.3 MB/s eta 0:00:01     | 276 kB 71.3 MB/s eta 0:00:01\r\n",
      "\u001B[?25hCollecting cycler>=0.10\r\n",
      "  Downloading cycler-0.11.0-py3-none-any.whl (6.4 kB)\r\n",
      "Collecting importlib-resources>=3.2.0; python_version < \"3.10\"\r\n",
      "  Using cached importlib_resources-6.1.0-py3-none-any.whl (33 kB)\r\n",
      "Collecting packaging>=20.0\r\n",
      "  Using cached packaging-23.1-py3-none-any.whl (48 kB)\r\n",
      "Collecting joblib>=1.1.1\r\n",
      "  Downloading joblib-1.3.2-py3-none-any.whl (302 kB)\r\n",
      "\u001B[K     |████████████████████████████████| 302 kB 92.1 MB/s eta 0:00:01\r\n",
      "\u001B[?25hCollecting threadpoolctl>=2.0.0\r\n",
      "  Downloading threadpoolctl-3.2.0-py3-none-any.whl (15 kB)\r\n",
      "Collecting daal4py==2023.2.1\r\n",
      "  Downloading daal4py-2023.2.1-py38-none-manylinux1_x86_64.whl (14.0 MB)\r\n",
      "\u001B[K     |████████████████████████████████| 14.0 MB 200 kB/s eta 0:00:011|█████▍                          | 2.4 MB 95.4 MB/s eta 0:00:01\r\n",
      "\u001B[?25hCollecting filelock\r\n",
      "  Downloading filelock-3.12.4-py3-none-any.whl (11 kB)\r\n",
      "Collecting huggingface-hub<1.0,>=0.15.1\r\n",
      "  Downloading huggingface_hub-0.17.2-py3-none-any.whl (294 kB)\r\n",
      "\u001B[K     |████████████████████████████████| 294 kB 93.5 MB/s eta 0:00:01\r\n",
      "\u001B[?25hCollecting safetensors>=0.3.1\r\n",
      "  Downloading safetensors-0.3.3-cp38-cp38-manylinux_2_17_x86_64.manylinux2014_x86_64.whl (1.3 MB)\r\n",
      "\u001B[K     |████████████████████████████████| 1.3 MB 86.2 MB/s eta 0:00:01\r\n",
      "\u001B[?25hCollecting tokenizers!=0.11.3,<0.14,>=0.11.1\r\n",
      "  Downloading tokenizers-0.13.3-cp38-cp38-manylinux_2_17_x86_64.manylinux2014_x86_64.whl (7.8 MB)\r\n",
      "\u001B[K     |████████████████████████████████| 7.8 MB 84.7 MB/s eta 0:00:01\r\n",
      "\u001B[?25hRequirement already satisfied: regex!=2019.12.17 in /home/kausik/.local/lib/python3.8/site-packages (from transformers->-r /tmp/pycharm_project_625/requirements.txt (line 8)) (2023.8.8)\r\n",
      "Collecting tqdm>=4.27\r\n",
      "  Downloading tqdm-4.66.1-py3-none-any.whl (78 kB)\r\n",
      "\u001B[K     |████████████████████████████████| 78 kB 16.3 MB/s eta 0:00:01\r\n",
      "\u001B[?25hRequirement already satisfied: pyyaml>=5.1 in /usr/lib/python3/dist-packages (from transformers->-r /tmp/pycharm_project_625/requirements.txt (line 8)) (5.3.1)\r\n",
      "Collecting beautifulsoup4==4.9.1\r\n",
      "  Downloading beautifulsoup4-4.9.1-py3-none-any.whl (115 kB)\r\n",
      "\u001B[K     |████████████████████████████████| 115 kB 94.2 MB/s eta 0:00:01\r\n",
      "\u001B[?25hCollecting TextBlob\r\n",
      "  Downloading textblob-0.17.1-py2.py3-none-any.whl (636 kB)\r\n",
      "\u001B[K     |████████████████████████████████| 636 kB 83.6 MB/s eta 0:00:01\r\n",
      "\u001B[?25hCollecting pathy>=0.10.0\r\n",
      "  Downloading pathy-0.10.2-py3-none-any.whl (48 kB)\r\n",
      "\u001B[K     |████████████████████████████████| 48 kB 14.4 MB/s eta 0:00:01\r\n",
      "\u001B[?25hCollecting smart-open<7.0.0,>=5.2.1\r\n",
      "  Downloading smart_open-6.4.0-py3-none-any.whl (57 kB)\r\n",
      "\u001B[K     |████████████████████████████████| 57 kB 12.6 MB/s eta 0:00:01\r\n",
      "\u001B[?25hCollecting wasabi<1.2.0,>=0.9.1\r\n",
      "  Downloading wasabi-1.1.2-py3-none-any.whl (27 kB)\r\n",
      "Collecting preshed<3.1.0,>=3.0.2\r\n",
      "  Downloading preshed-3.0.9-cp38-cp38-manylinux_2_5_x86_64.manylinux1_x86_64.manylinux_2_17_x86_64.manylinux2014_x86_64.whl (154 kB)\r\n",
      "\u001B[K     |████████████████████████████████| 154 kB 95.7 MB/s eta 0:00:01\r\n",
      "\u001B[?25hCollecting thinc<8.2.0,>=8.1.8\r\n",
      "  Downloading thinc-8.1.12-cp38-cp38-manylinux_2_17_x86_64.manylinux2014_x86_64.whl (931 kB)\r\n",
      "\u001B[K     |████████████████████████████████| 931 kB 81.4 MB/s eta 0:00:01\r\n",
      "\u001B[?25hCollecting pydantic!=1.8,!=1.8.1,<3.0.0,>=1.7.4\r\n",
      "  Downloading pydantic-2.3.0-py3-none-any.whl (374 kB)\r\n",
      "\u001B[K     |████████████████████████████████| 374 kB 41.7 MB/s eta 0:00:01\r\n",
      "\u001B[?25hCollecting srsly<3.0.0,>=2.4.3\r\n",
      "  Downloading srsly-2.4.7-cp38-cp38-manylinux_2_17_x86_64.manylinux2014_x86_64.whl (494 kB)\r\n",
      "\u001B[K     |████████████████████████████████| 494 kB 91.8 MB/s eta 0:00:01\r\n",
      "\u001B[?25hCollecting langcodes<4.0.0,>=3.2.0\r\n",
      "  Downloading langcodes-3.3.0-py3-none-any.whl (181 kB)\r\n",
      "\u001B[K     |████████████████████████████████| 181 kB 111.9 MB/s eta 0:00:01\r\n",
      "\u001B[?25hRequirement already satisfied: jinja2 in /usr/lib/python3/dist-packages (from spacy->-r /tmp/pycharm_project_625/requirements.txt (line 10)) (2.10.1)\r\n",
      "Collecting spacy-loggers<2.0.0,>=1.0.0\r\n",
      "  Downloading spacy_loggers-1.0.5-py3-none-any.whl (22 kB)\r\n",
      "Requirement already satisfied: setuptools in /usr/lib/python3/dist-packages (from spacy->-r /tmp/pycharm_project_625/requirements.txt (line 10)) (45.2.0)\r\n",
      "Collecting murmurhash<1.1.0,>=0.28.0\r\n",
      "  Downloading murmurhash-1.0.10-cp38-cp38-manylinux_2_5_x86_64.manylinux1_x86_64.manylinux_2_17_x86_64.manylinux2014_x86_64.whl (29 kB)\r\n",
      "Collecting catalogue<2.1.0,>=2.0.6\r\n",
      "  Downloading catalogue-2.0.9-py3-none-any.whl (17 kB)\r\n",
      "Collecting typer<0.10.0,>=0.3.0\r\n",
      "  Downloading typer-0.9.0-py3-none-any.whl (45 kB)\r\n",
      "\u001B[K     |████████████████████████████████| 45 kB 6.3 MB/s  eta 0:00:01\r\n",
      "\u001B[?25hCollecting spacy-legacy<3.1.0,>=3.0.11\r\n",
      "  Downloading spacy_legacy-3.0.12-py2.py3-none-any.whl (29 kB)\r\n",
      "Collecting cymem<2.1.0,>=2.0.2\r\n",
      "  Downloading cymem-2.0.8-cp38-cp38-manylinux_2_17_x86_64.manylinux2014_x86_64.whl (46 kB)\r\n",
      "\u001B[K     |████████████████████████████████| 46 kB 8.4 MB/s  eta 0:00:01\r\n",
      "\u001B[?25hCollecting astunparse>=1.6.0\r\n",
      "  Downloading astunparse-1.6.3-py2.py3-none-any.whl (12 kB)\r\n",
      "Requirement already satisfied: six>=1.12.0 in /usr/lib/python3/dist-packages (from tensorflow->-r /tmp/pycharm_project_625/requirements.txt (line 11)) (1.14.0)\r\n",
      "Collecting termcolor>=1.1.0\r\n",
      "  Downloading termcolor-2.3.0-py3-none-any.whl (6.9 kB)\r\n",
      "Collecting absl-py>=1.0.0\r\n",
      "  Downloading absl_py-2.0.0-py3-none-any.whl (130 kB)\r\n",
      "\u001B[K     |████████████████████████████████| 130 kB 86.8 MB/s eta 0:00:01\r\n",
      "\u001B[?25hCollecting tensorflow-estimator<2.14,>=2.13.0\r\n",
      "  Downloading tensorflow_estimator-2.13.0-py2.py3-none-any.whl (440 kB)\r\n",
      "\u001B[K     |████████████████████████████████| 440 kB 95.8 MB/s eta 0:00:01\r\n",
      "\u001B[?25hCollecting h5py>=2.9.0\r\n",
      "  Downloading h5py-3.9.0-cp38-cp38-manylinux_2_17_x86_64.manylinux2014_x86_64.whl (4.8 MB)\r\n",
      "\u001B[K     |████████████████████████████████| 4.8 MB 81.2 MB/s eta 0:00:01\r\n",
      "\u001B[?25hCollecting opt-einsum>=2.3.2\r\n",
      "  Downloading opt_einsum-3.3.0-py3-none-any.whl (65 kB)\r\n",
      "\u001B[K     |████████████████████████████████| 65 kB 10.7 MB/s eta 0:00:01\r\n",
      "\u001B[?25hCollecting tensorboard<2.14,>=2.13\r\n",
      "  Downloading tensorboard-2.13.0-py3-none-any.whl (5.6 MB)\r\n",
      "\u001B[K     |████████████████████████████████| 5.6 MB 94.6 MB/s eta 0:00:01\r\n",
      "\u001B[?25hCollecting grpcio<2.0,>=1.24.3\r\n",
      "  Downloading grpcio-1.58.0-cp38-cp38-manylinux_2_17_x86_64.manylinux2014_x86_64.whl (5.3 MB)\r\n",
      "\u001B[K     |████████████████████████████████| 5.3 MB 68.0 MB/s eta 0:00:01\r\n",
      "\u001B[?25hRequirement already satisfied: protobuf!=4.21.0,!=4.21.1,!=4.21.2,!=4.21.3,!=4.21.4,!=4.21.5,<5.0.0dev,>=3.20.3 in /home/kausik/.local/lib/python3.8/site-packages (from tensorflow->-r /tmp/pycharm_project_625/requirements.txt (line 11)) (4.24.3)\r\n",
      "Collecting flatbuffers>=23.1.21\r\n",
      "  Downloading flatbuffers-23.5.26-py2.py3-none-any.whl (26 kB)\r\n",
      "Collecting keras<2.14,>=2.13.1\r\n",
      "  Downloading keras-2.13.1-py3-none-any.whl (1.7 MB)\r\n",
      "\u001B[K     |████████████████████████████████| 1.7 MB 53.1 MB/s eta 0:00:01\r\n",
      "\u001B[?25hCollecting gast<=0.4.0,>=0.2.1\r\n",
      "  Downloading gast-0.4.0-py3-none-any.whl (9.8 kB)\r\n",
      "Collecting typing-extensions<4.6.0,>=3.6.6\r\n",
      "  Downloading typing_extensions-4.5.0-py3-none-any.whl (27 kB)\r\n",
      "Collecting wrapt>=1.11.0\r\n",
      "  Downloading wrapt-1.15.0-cp38-cp38-manylinux_2_5_x86_64.manylinux1_x86_64.manylinux_2_17_x86_64.manylinux2014_x86_64.whl (81 kB)\r\n",
      "\u001B[K     |████████████████████████████████| 81 kB 268 kB/s  eta 0:00:01\r\n",
      "\u001B[?25hCollecting libclang>=13.0.0\r\n",
      "  Downloading libclang-16.0.6-py2.py3-none-manylinux2010_x86_64.whl (22.9 MB)\r\n",
      "\u001B[K     |████████████████████████████████| 22.9 MB 31.6 MB/s eta 0:00:01\r\n",
      "\u001B[?25hCollecting tensorflow-io-gcs-filesystem>=0.23.1; platform_machine != \"arm64\" or platform_system != \"Darwin\"\r\n",
      "  Downloading tensorflow_io_gcs_filesystem-0.34.0-cp38-cp38-manylinux_2_12_x86_64.manylinux2010_x86_64.whl (2.4 MB)\r\n",
      "\u001B[K     |████████████████████████████████| 2.4 MB 85.4 MB/s eta 0:00:01\r\n",
      "\u001B[?25hCollecting google-pasta>=0.1.1\r\n",
      "  Downloading google_pasta-0.2.0-py3-none-any.whl (57 kB)\r\n",
      "\u001B[K     |████████████████████████████████| 57 kB 140 kB/s  eta 0:00:01\r\n",
      "\u001B[?25hRequirement already satisfied: click in /usr/lib/python3/dist-packages (from opendatasets->-r /tmp/pycharm_project_625/requirements.txt (line 12)) (7.0)\r\n",
      "Collecting kaggle\r\n",
      "  Downloading kaggle-1.5.16.tar.gz (83 kB)\r\n",
      "\u001B[K     |████████████████████████████████| 83 kB 47 kB/s s eta 0:00:01\r\n",
      "\u001B[?25hCollecting dill<0.3.8,>=0.3.0\r\n",
      "  Downloading dill-0.3.7-py3-none-any.whl (115 kB)\r\n",
      "\u001B[K     |████████████████████████████████| 115 kB 35.7 MB/s eta 0:00:01\r\n",
      "\u001B[?25hCollecting multiprocess\r\n",
      "  Downloading multiprocess-0.70.15-py38-none-any.whl (132 kB)\r\n",
      "\u001B[K     |████████████████████████████████| 132 kB 40.7 MB/s eta 0:00:01\r\n",
      "\u001B[?25hCollecting aiohttp\r\n",
      "  Downloading aiohttp-3.8.5-cp38-cp38-manylinux_2_17_x86_64.manylinux2014_x86_64.whl (1.1 MB)\r\n",
      "\u001B[K     |████████████████████████████████| 1.1 MB 96.2 MB/s eta 0:00:01\r\n",
      "\u001B[?25hCollecting pyarrow>=8.0.0\r\n",
      "  Downloading pyarrow-13.0.0-cp38-cp38-manylinux_2_17_x86_64.manylinux2014_x86_64.whl (40.1 MB)\r\n",
      "\u001B[K     |████████████████████████████████| 40.1 MB 103.3 MB/s eta 0:00:01     |█████████████████████████▎      | 31.7 MB 103.3 MB/s eta 0:00:01\r\n",
      "\u001B[?25hCollecting fsspec[http]<2023.9.0,>=2023.1.0\r\n",
      "  Downloading fsspec-2023.6.0-py3-none-any.whl (163 kB)\r\n",
      "\u001B[K     |████████████████████████████████| 163 kB 97.7 MB/s eta 0:00:01\r\n",
      "\u001B[?25hCollecting xxhash\r\n",
      "  Downloading xxhash-3.3.0-cp38-cp38-manylinux_2_17_x86_64.manylinux2014_x86_64.whl (194 kB)\r\n",
      "\u001B[K     |████████████████████████████████| 194 kB 96.1 MB/s eta 0:00:01\r\n",
      "\u001B[?25hCollecting nvidia-nvtx-cu11==11.7.91; platform_system == \"Linux\" and platform_machine == \"x86_64\"\r\n",
      "  Downloading nvidia_nvtx_cu11-11.7.91-py3-none-manylinux1_x86_64.whl (98 kB)\r\n",
      "\u001B[K     |████████████████████████████████| 98 kB 19.1 MB/s eta 0:00:01\r\n",
      "\u001B[?25hCollecting nvidia-cudnn-cu11==8.5.0.96; platform_system == \"Linux\" and platform_machine == \"x86_64\"\r\n",
      "  Downloading nvidia_cudnn_cu11-8.5.0.96-2-py3-none-manylinux1_x86_64.whl (557.1 MB)\r\n",
      "\u001B[K     |████████████████████████████████| 557.1 MB 8.4 kB/s eta 0:00:0101    |██████████▉                     | 188.6 MB 79.1 MB/s eta 0:00:05     |██████████████                  | 241.8 MB 140.4 MB/s eta 0:00:03     |███████████████████             | 330.9 MB 137.6 MB/s eta 0:00:02     |███████████████████████████▊    | 481.7 MB 130.6 MB/s eta 0:00:01     |███████████████████████████████ | 541.1 MB 4.1 MB/s eta 0:00:04\r\n",
      "\u001B[?25hCollecting nvidia-curand-cu11==10.2.10.91; platform_system == \"Linux\" and platform_machine == \"x86_64\"\r\n",
      "  Downloading nvidia_curand_cu11-10.2.10.91-py3-none-manylinux1_x86_64.whl (54.6 MB)\r\n",
      "\u001B[K     |████████████████████████████████| 54.6 MB 273 kB/s  eta 0:00:01    |█                               | 1.7 MB 53.3 MB/s eta 0:00:01��                              | 2.3 MB 53.3 MB/s eta 0:00:01     |█████████████████████▏          | 36.2 MB 53.3 MB/s eta 0:00:01\r\n",
      "\u001B[?25hCollecting nvidia-cufft-cu11==10.9.0.58; platform_system == \"Linux\" and platform_machine == \"x86_64\"\r\n",
      "  Downloading nvidia_cufft_cu11-10.9.0.58-py3-none-manylinux1_x86_64.whl (168.4 MB)\r\n",
      "\u001B[K     |████████████████████████████████| 168.4 MB 71 kB/s s eta 0:00:01   |▊                               | 3.6 MB 88.5 MB/s eta 0:00:02 |▉                               | 4.1 MB 88.5 MB/s eta 0:00:02     |███████████▍                    | 59.9 MB 88.5 MB/s eta 0:00:02     |████████████████████████▉       | 130.9 MB 4.3 MB/s eta 0:00:09     |███████████████████████████████▍| 165.5 MB 49.2 MB/s eta 0:00:01\r\n",
      "\u001B[?25hCollecting nvidia-cusolver-cu11==11.4.0.1; platform_system == \"Linux\" and platform_machine == \"x86_64\"\r\n",
      "  Downloading nvidia_cusolver_cu11-11.4.0.1-2-py3-none-manylinux1_x86_64.whl (102.6 MB)\r\n",
      "\u001B[K     |████████████████████████████████| 102.6 MB 2.7 kB/s eta 0:00:01 276 kB 74.6 MB/s eta 0:00:02 eta 0:00:02 0:00:02     |█████████████████▊              | 56.9 MB 74.6 MB/s eta 0:00:01     |██████████████████████████▏     | 83.9 MB 3.3 MB/s eta 0:00:06     |███████████████████████████     | 86.7 MB 3.3 MB/s eta 0:00:05\r\n",
      "\u001B[?25hCollecting nvidia-nccl-cu11==2.14.3; platform_system == \"Linux\" and platform_machine == \"x86_64\"\r\n",
      "  Downloading nvidia_nccl_cu11-2.14.3-py3-none-manylinux1_x86_64.whl (177.1 MB)\r\n",
      "\u001B[K     |████████████████████████████████| 177.1 MB 41 kB/s  eta 0:00:0101   |███                             | 17.1 MB 56.6 MB/s eta 0:00:036 MB/s eta 0:00:03██▎                            | 18.1 MB 56.6 MB/s eta 0:00:03     |██████████████                  | 77.4 MB 3.5 MB/s eta 0:00:29     |███████████████                 | 83.5 MB 3.5 MB/s eta 0:00:27     |████████████████████▊           | 114.8 MB 132.6 MB/s eta 0:00:01     |███████████████████████████     | 149.2 MB 132.6 MB/s eta 0:00:01     |██████████████████████████████▌ | 168.9 MB 2.8 MB/s eta 0:00:03\r\n",
      "\u001B[?25hCollecting nvidia-cuda-runtime-cu11==11.7.99; platform_system == \"Linux\" and platform_machine == \"x86_64\"\r\n",
      "  Downloading nvidia_cuda_runtime_cu11-11.7.99-py3-none-manylinux1_x86_64.whl (849 kB)\r\n",
      "\u001B[K     |████████████████████████████████| 849 kB 76.7 MB/s eta 0:00:01██               | 450 kB 76.7 MB/s eta 0:00:010:00:01\r\n",
      "\u001B[?25hCollecting nvidia-cublas-cu11==11.10.3.66; platform_system == \"Linux\" and platform_machine == \"x86_64\"\r\n",
      "  Downloading nvidia_cublas_cu11-11.10.3.66-py3-none-manylinux1_x86_64.whl (317.1 MB)\r\n",
      "\u001B[K     |████████████████████████████████| 317.1 MB 25 kB/s  eta 0:00:0102    |██████████                      | 99.6 MB 106.8 MB/s eta 0:00:03     |███████████████▎                | 151.8 MB 142.4 MB/s eta 0:00:02     |███████████████▊                | 155.9 MB 142.4 MB/s eta 0:00:02     |███████████████████████████     | 267.6 MB 2.7 MB/s eta 0:00:19     |███████████████████████████▌    | 272.5 MB 2.7 MB/s eta 0:00:17     |████████████████████████████▎   | 280.0 MB 2.7 MB/s eta 0:00:14�█████████████████████████▋   | 283.8 MB 2.7 MB/s eta 0:00:13��███████████████████▋   | 284.0 MB 2.7 MB/s eta 0:00:13.6 MB 2.7 MB/s eta 0:00:12███████████████████▌  | 292.2 MB 2.3 MB/s eta 0:00:11    |█████████████████████████████▌  | 292.4 MB 2.3 MB/s eta 0:00:11�██████████████████████▉  | 296.0 MB 2.3 MB/s eta 0:00:09��██████████████████████████  | 297.2 MB 2.3 MB/s eta 0:00:09��█▋ | 303.0 MB 2.3 MB/s eta 0:00:07�██▏| 308.4 MB 2.3 MB/s eta 0:00:04�█████████████████████████▍| 310.5 MB 2.3 MB/s eta 0:00:03�█████████████████████████▉| 315.6 MB 1.1 MB/s eta 0:00:02\r\n",
      "\u001B[?25hCollecting sympy\r\n",
      "  Downloading sympy-1.12-py3-none-any.whl (5.7 MB)\r\n",
      "\u001B[K     |████████████████████████████████| 5.7 MB 82.5 MB/s eta 0:00:01  |███                             | 542 kB 82.5 MB/s eta 0:00:01|█████▉                          | 1.0 MB 82.5 MB/s eta 0:00:0101███████████████▌          | 3.9 MB 82.5 MB/s eta 0:00:01:00:01�█████████████████████▋ | 5.5 MB 82.5 MB/s eta 0:00:01\r\n",
      "\u001B[?25hCollecting nvidia-cuda-nvrtc-cu11==11.7.99; platform_system == \"Linux\" and platform_machine == \"x86_64\"\r\n",
      "  Downloading nvidia_cuda_nvrtc_cu11-11.7.99-2-py3-none-manylinux1_x86_64.whl (21.0 MB)\r\n",
      "\u001B[K     |████████████████████████████████| 21.0 MB 2.3 MB/s eta 0:00:011\r   |▍                               | 276 kB 79.1 MB/s eta 0:00:01ta 0:00:01        | 1.4 MB 79.1 MB/s eta 0:00:01�██▏                        | 4.7 MB 79.1 MB/s eta 0:00:01 eta 0:00:01████                | 10.5 MB 79.1 MB/s eta 0:00:011\u001B[K     |████████████████████████        | 15.8 MB 79.1 MB/s eta 0:00:01��█████▎    | 17.9 MB 79.1 MB/s eta 0:00:01�██████████████████████▌| 20.7 MB 2.3 MB/s eta 0:00:01\r\n",
      "\u001B[?25hCollecting triton==2.0.0; platform_system == \"Linux\" and platform_machine == \"x86_64\"\r\n",
      "  Downloading triton-2.0.0-1-cp38-cp38-manylinux2014_x86_64.manylinux_2_17_x86_64.whl (63.2 MB)\r\n",
      "\u001B[K     |████████████████████████████████| 63.2 MB 693 kB/s eta 0:00:0101   |███▍                            | 6.7 MB 77.3 MB/s eta 0:00:01██▎                      | 18.3 MB 77.3 MB/s eta 0:00:01��█▌                      | 18.7 MB 77.3 MB/s eta 0:00:01�                     | 21.2 MB 77.3 MB/s eta 0:00:01            | 21.6 MB 77.3 MB/s eta 0:00:01     |███████████▏                    | 22.0 MB 77.3 MB/s eta 0:00:01�█████▍                    | 22.5 MB 77.3 MB/s eta 0:00:01MB 77.3 MB/s eta 0:00:01�████████▉                   | 25.3 MB 77.3 MB/s eta 0:00:01MB 77.3 MB/s eta 0:00:017.3 MB/s eta 0:00:01\u001B[K     |█████████████▊                  | 27.1 MB 77.3 MB/s eta 0:00:01     |██████████████▏                 | 28.1 MB 77.3 MB/s eta 0:00:01s eta 0:00:01                | 29.3 MB 77.3 MB/s eta 0:00:01�█████                 | 29.7 MB 77.3 MB/s eta 0:00:01kB/s eta 0:00:57:00:56    | 32.4 MB 558 kB/s eta 0:00:56    | 33.8 MB 558 kB/s eta 0:00:53██████████████████            | 39.6 MB 558 kB/s eta 0:00:4342████████████████████▋           | 40.7 MB 558 kB/s eta 0:00:41��████████████████▉           | 41.1 MB 558 kB/s eta 0:00:40�██████████████           | 41.4 MB 558 kB/s eta 0:00:40��█████▍          | 42.3 MB 558 kB/s eta 0:00:380:37███████▉          | 43.0 MB 558 kB/s eta 0:00:37 0:00:36 eta 0:00:46▉         | 45.2 MB 411 kB/s eta 0:00:44:00:44███████████▌        | 46.4 MB 411 kB/s eta 0:00:41    | 46.8 MB 411 kB/s eta 0:00:41█████████████▉        | 47.2 MB 411 kB/s eta 0:00:40��        | 47.5 MB 411 kB/s eta 0:00:39.8 MB 411 kB/s eta 0:00:36��█████████████████▌      | 50.4 MB 411 kB/s eta 0:00:32███████▊      | 50.7 MB 411 kB/s eta 0:00:31 eta 0:00:30��██████████████████████      | 51.5 MB 411 kB/s eta 0:00:29�███▌     | 52.4 MB 411 kB/s eta 0:00:27██████████████▊     | 52.7 MB 411 kB/s eta 0:00:26�██████████████████▎    | 53.9 MB 411 kB/s eta 0:00:23 eta 0:00:0155.2 MB 134.6 MB/s eta 0:00:01 eta 0:00:01�███████████▊   | 56.7 MB 134.6 MB/s eta 0:00:01| 57.0 MB 134.6 MB/s eta 0:00:01█▍  | 58.2 MB 134.6 MB/s eta 0:00:01��███████▋  | 58.5 MB 134.6 MB/s eta 0:00:01�██████████████▊  | 58.8 MB 134.6 MB/s eta 0:00:0159.3 MB 134.6 MB/s eta 0:00:01 0:00:01��██████████████▋ | 60.5 MB 134.6 MB/s eta 0:00:01 0:00:01█████████▌| 62.2 MB 134.6 MB/s eta 0:00:01��█████████▋| 62.5 MB 134.6 MB/s eta 0:00:01��███████████████▉| 63.0 MB 693 kB/s eta 0:00:01\r\n",
      "\u001B[?25hCollecting networkx\r\n",
      "  Downloading networkx-3.1-py3-none-any.whl (2.1 MB)\r\n",
      "\u001B[K     |████████████████████████████████| 2.1 MB 99.0 MB/s eta 0:00:01                         | 266 kB 99.0 MB/s eta 0:00:01 727 kB 99.0 MB/s eta 0:00:01|█████████████████▌              | 1.1 MB 99.0 MB/s eta 0:00:01�███████████         | 1.5 MB 99.0 MB/s eta 0:00:01\r\n",
      "\u001B[?25hCollecting nvidia-cuda-cupti-cu11==11.7.101; platform_system == \"Linux\" and platform_machine == \"x86_64\"\r\n",
      "  Downloading nvidia_cuda_cupti_cu11-11.7.101-py3-none-manylinux1_x86_64.whl (11.8 MB)\r\n",
      "\u001B[K     |████████████████████████████████| 11.8 MB 97.8 MB/s eta 0:00:01\r\n",
      "\u001B[?25hCollecting nvidia-cusparse-cu11==11.7.4.91; platform_system == \"Linux\" and platform_machine == \"x86_64\"\r\n",
      "  Downloading nvidia_cusparse_cu11-11.7.4.91-py3-none-manylinux1_x86_64.whl (173.2 MB)\r\n",
      "\u001B[K     |████████████████████████████████| 173.2 MB 26 kB/s s eta 0:00:0176 kB 98.4 MB/s eta 0:00:02       | 839 kB 98.4 MB/s eta 0:00:02   | 1.4 MB 98.4 MB/s eta 0:00:02   |▋                               | 3.6 MB 98.4 MB/s eta 0:00:02                          | 5.3 MB 98.4 MB/s eta 0:00:02[K     |█                               | 5.8 MB 98.4 MB/s eta 0:00:02                            | 6.3 MB 98.4 MB/s eta 0:00:028.5 MB 98.4 MB/s eta 0:00:02  | 9.3 MB 98.4 MB/s eta 0:00:02                       | 10.1 MB 98.4 MB/s eta 0:00:02                           | 10.7 MB 98.4 MB/s eta 0:00:02MB/s eta 0:00:02              | 12.0 MB 98.4 MB/s eta 0:00:02    |██▎                             | 12.5 MB 98.4 MB/s eta 0:00:0213.6 MB 98.4 MB/s eta 0:00:02                           | 14.2 MB 98.4 MB/s eta 0:00:02      | 15.2 MB 98.4 MB/s eta 0:00:02                          | 16.4 MB 536 kB/s eta 0:04:53                | 17.4 MB 536 kB/s eta 0:04:51ta 0:04:41     |████▍                           | 23.5 MB 536 kB/s eta 0:04:396 kB/s eta 0:04:38      | 24.9 MB 536 kB/s eta 0:04:37B 536 kB/s eta 0:04:35          | 26.1 MB 536 kB/s eta 0:04:346 kB/s eta 0:04:33      | 27.5 MB 536 kB/s eta 0:04:32            | 28.0 MB 536 kB/s eta 0:04:31█████▎                          | 28.5 MB 536 kB/s eta 0:04:30B 536 kB/s eta 0:04:29kB/s eta 0:06:03                  | 29.9 MB 396 kB/s eta 0:06:0230.9 MB 396 kB/s eta 0:06:00  | 32.1 MB 396 kB/s eta 0:05:57�███▏                         | 33.3 MB 396 kB/s eta 0:05:54            | 34.6 MB 396 kB/s eta 0:05:50�█▌                         | 35.3 MB 396 kB/s eta 0:05:496 kB/s eta 0:05:47            | 36.8 MB 396 kB/s eta 0:05:45[K     |███████                         | 37.3 MB 396 kB/s eta 0:05:44          | 37.8 MB 396 kB/s eta 0:05:42   |███████▏                        | 38.7 MB 396 kB/s eta 0:05:40 MB 396 kB/s eta 0:05:39█████▎                        | 39.5 MB 396 kB/s eta 0:05:38  | 39.9 MB 396 kB/s eta 0:05:37 |███████▌                        | 40.4 MB 396 kB/s eta 0:05:36          | 40.9 MB 396 kB/s eta 0:05:35 MB 463 kB/s eta 0:04:45��                        | 42.5 MB 463 kB/s eta 0:04:42██████                        | 43.8 MB 463 kB/s eta 0:04:39463 kB/s eta 0:04:38��████▎                       | 44.7 MB 463 kB/s eta 0:04:37| 45.2 MB 463 kB/s eta 0:04:37████████▍                       | 45.6 MB 463 kB/s eta 0:04:36          | 46.1 MB 463 kB/s eta 0:04:35                    | 47.0 MB 463 kB/s eta 0:04:33ta 0:04:32�█▉                       | 47.9 MB 463 kB/s eta 0:04:31463 kB/s eta 0:04:30��█████                       | 48.8 MB 463 kB/s eta 0:04:29| 49.3 MB 463 kB/s eta 0:04:28                  | 50.2 MB 463 kB/s eta 0:04:264:25                      | 51.1 MB 463 kB/s eta 0:04:24 0:04:23�▋                      | 51.9 MB 463 kB/s eta 0:04:22 MB 386 kB/s eta 0:05:14��█████▊                      | 52.6 MB 386 kB/s eta 0:05:1253.1 MB 386 kB/s eta 0:05:11████████                      | 53.5 MB 386 kB/s eta 0:05:10  | 54.0 MB 386 kB/s eta 0:05:09 MB 386 kB/s eta 0:05:08��██████                      | 54.7 MB 386 kB/s eta 0:05:07kB/s eta 0:05:06�█▎                     | 55.6 MB 386 kB/s eta 0:05:05kB/s eta 0:05:02�█▋                     | 57.2 MB 386 kB/s eta 0:05:01:05:00                  | 58.1 MB 386 kB/s eta 0:04:58            | 58.8 MB 386 kB/s eta 0:04:57███████████                     | 59.2 MB 386 kB/s eta 0:04:55  | 59.6 MB 386 kB/s eta 0:04:54kB/s eta 0:03:48��███▍                    | 61.4 MB 493 kB/s eta 0:03:47                  | 62.5 MB 493 kB/s eta 0:03:45kB/s eta 0:03:44                  | 63.2 MB 493 kB/s eta 0:03:43█████████▊                    | 63.6 MB 493 kB/s eta 0:03:42kB/s eta 0:03:42                  | 64.5 MB 493 kB/s eta 0:03:41kB/s eta 0:03:40                  | 65.2 MB 493 kB/s eta 0:03:3938493 kB/s eta 0:03:38        | 66.5 MB 493 kB/s eta 0:03:37██▍                   | 66.8 MB 493 kB/s eta 0:03:36████████▍                   | 67.2 MB 493 kB/s eta 0:03:35     |████████████▌                   | 67.6 MB 493 kB/s eta 0:03:34/s eta 0:03:34  | 68.4 MB 493 kB/s eta 0:03:33██▊                   | 68.8 MB 406 kB/s eta 0:04:18████████▉                   | 69.2 MB 406 kB/s eta 0:04:17     |████████████▉                   | 69.6 MB 406 kB/s eta 0:04:15/s eta 0:04:14  | 70.4 MB 406 kB/s eta 0:04:13███                   | 70.8 MB 406 kB/s eta 0:04:13B 406 kB/s eta 0:04:12B 406 kB/s eta 0:04:11B 406 kB/s eta 0:04:10B 406 kB/s eta 0:04:09:03:59          | 76.7 MB 410 kB/s eta 0:03:560 kB/s eta 0:03:55     |██████████████▎                 | 77.6 MB 410 kB/s eta 0:03:54��████████▍                 | 78.0 MB 410 kB/s eta 0:03:53�█▌                 | 78.4 MB 410 kB/s eta 0:03:52          | 78.7 MB 410 kB/s eta 0:03:510 kB/s eta 0:03:50     |██████████████▊                 | 79.6 MB 410 kB/s eta 0:03:49��████████▊                 | 80.0 MB 410 kB/s eta 0:03:48�█▉                 | 80.4 MB 410 kB/s eta 0:03:47          | 80.7 MB 410 kB/s eta 0:03:460 kB/s eta 0:03:45     |███████████████                 | 81.6 MB 410 kB/s eta 0:03:44:03:43�████▏                | 82.3 MB 410 kB/s eta 0:03:42�██████████▎                | 82.6 MB 410 kB/s eta 0:03:41  | 83.0 MB 410 kB/s eta 0:03:40█████████████▍                | 83.4 MB 410 kB/s eta 0:03:39          | 83.8 MB 410 kB/s eta 0:03:38�██▋                | 84.5 MB 426 kB/s eta 0:03:28 0:03:27█████▊                | 85.3 MB 426 kB/s eta 0:03:26kB/s eta 0:03:26�██████████▉                | 86.0 MB 426 kB/s eta 0:03:25 0:03:23██████                | 86.9 MB 426 kB/s eta 0:03:22              | 87.3 MB 426 kB/s eta 0:03:22/s eta 0:03:21            | 88.0 MB 426 kB/s eta 0:03:20�███████▍               | 88.4 MB 426 kB/s eta 0:03:19:03:18/s eta 0:03:17            | 89.7 MB 426 kB/s eta 0:03:16�███████▋               | 90.0 MB 426 kB/s eta 0:03:15 |████████████████▊               | 90.4 MB 426 kB/s eta 0:03:1491.1 MB 426 kB/s eta 0:03:13��███               | 91.5 MB 426 kB/s eta 0:03:12█████████████               | 91.9 MB 426 kB/s eta 0:03:11:03:10/s eta 0:02:50[K     |█████████████████▏              | 92.9 MB 476 kB/s eta 0:02:49   |█████████████████▎              | 93.3 MB 476 kB/s eta 0:02:48█████████████████▎              | 93.7 MB 476 kB/s eta 0:02:47     |█████████████████▍              | 94.4 MB 476 kB/s eta 0:02:46 |█████████████████▌              | 94.8 MB 476 kB/s eta 0:02:45�████████████████▋              | 95.1 MB 476 kB/s eta 0:02:44███████████████▋              | 95.5 MB 476 kB/s eta 0:02:43     |█████████████████▉              | 96.2 MB 476 kB/s eta 0:02:42 |█████████████████▉              | 96.6 MB 476 kB/s eta 0:02:41�█████████████████              | 97.0 MB 476 kB/s eta 0:02:40████████████████              | 97.4 MB 476 kB/s eta 0:02:40��██              | 97.7 MB 476 kB/s eta 0:02:39��██▏             | 98.0 MB 476 kB/s eta 0:02:38/s eta 0:02:37��████████████▎             | 98.8 MB 476 kB/s eta 0:02:36████████▍             | 99.5 MB 419 kB/s eta 0:02:56| 99.9 MB 419 kB/s eta 0:02:55 kB/s eta 0:02:54s eta 0:02:53[K     |██████████████████▋             | 100.9 MB 419 kB/s eta 0:02:53   |██████████████████▊             | 101.3 MB 419 kB/s eta 0:02:52██████████████████▉             | 101.7 MB 419 kB/s eta 0:02:51��████████████████▉             | 102.0 MB 419 kB/s eta 0:02:50     |███████████████████             | 102.8 MB 419 kB/s eta 0:02:48 |███████████████████             | 103.1 MB 419 kB/s eta 0:02:47�███████▏            | 103.9 MB 419 kB/s eta 0:02:46   | 104.2 MB 419 kB/s eta 0:02:45��██████████████████▎            | 104.6 MB 419 kB/s eta 0:02:44��███▍            | 104.9 MB 419 kB/s eta 0:02:43 eta 0:02:42�███████████▌            | 105.7 MB 419 kB/s eta 0:02:41    | 106.0 MB 419 kB/s eta 0:02:40███████████████████▋            | 106.4 MB 419 kB/s eta 0:02:40████▊            | 106.7 MB 419 kB/s eta 0:02:39s eta 0:02:38�████████            | 107.7 MB 401 kB/s eta 0:02:44MB 401 kB/s eta 0:02:43████████████████            | 108.4 MB 401 kB/s eta 0:02:42█            | 108.7 MB 401 kB/s eta 0:02:41�███▏           | 109.1 MB 401 kB/s eta 0:02:40��███████████▎           | 109.5 MB 401 kB/s eta 0:02:39████████████████████▎           | 109.8 MB 401 kB/s eta 0:02:38B/s eta 0:02:38         | 110.5 MB 401 kB/s eta 0:02:37��██████▌           | 110.9 MB 401 kB/s eta 0:02:36███████████████▋           | 111.2 MB 401 kB/s eta 0:02:350 MB 401 kB/s eta 0:02:335 MB 401 kB/s eta 0:02:32��█▉           | 112.9 MB 401 kB/s eta 0:02:31███████████           | 113.2 MB 401 kB/s eta 0:02:30�███████████████████           | 113.6 MB 401 kB/s eta 0:02:292 MB 398 kB/s eta 0:02:29████████████████████▏          | 114.5 MB 398 kB/s eta 0:02:28��████████████▎          | 114.9 MB 398 kB/s eta 0:02:27�█████▎          | 115.2 MB 398 kB/s eta 0:02:26█████████████████▍          | 115.8 MB 398 kB/s eta 0:02:25��█████████▌          | 116.2 MB 398 kB/s eta 0:02:24�██▌          | 116.5 MB 398 kB/s eta 0:02:23116.8 MB 398 kB/s eta 0:02:22█████████████████▊          | 117.4 MB 398 kB/s eta 0:02:21��█████████▊          | 117.7 MB 398 kB/s eta 0:02:20�██▉          | 118.1 MB 398 kB/s eta 0:02:19118.4 MB 398 kB/s eta 0:02:18██████████████████          | 119.0 MB 398 kB/s eta 0:02:17��██████████          | 119.3 MB 398 kB/s eta 0:02:16�█████▏         | 119.7 MB 398 kB/s eta 0:02:15��████████████████████▏         | 120.0 MB 398 kB/s eta 0:02:14█▎         | 120.6 MB 401 kB/s eta 0:02:11�████████████████▍         | 120.9 MB 401 kB/s eta 0:02:1101 kB/s eta 0:02:10�███████▌         | 121.6 MB 401 kB/s eta 0:02:09█▋         | 122.2 MB 401 kB/s eta 0:02:08�████████████████▋         | 122.5 MB 401 kB/s eta 0:02:0701 kB/s eta 0:02:06�███████▊         | 123.2 MB 401 kB/s eta 0:02:05█▉         | 123.8 MB 401 kB/s eta 0:02:04�█████████████████         | 124.1 MB 401 kB/s eta 0:02:0301 kB/s eta 0:02:02�████████         | 124.8 MB 401 kB/s eta 0:02:01�█████████████████████▏        | 125.4 MB 401 kB/s eta 0:02:00███████████████████▎        | 125.7 MB 401 kB/s eta 0:01:59��████████████████▎        | 126.1 MB 401 kB/s eta 0:01:58�██████████████▍        | 126.4 MB 401 kB/s eta 0:01:57  |███████████████████████▌        | 127.0 MB 391 kB/s eta 0:01:58��█████████████████████▌        | 127.3 MB 391 kB/s eta 0:01:58�███████████████████▋        | 127.7 MB 391 kB/s eta 0:01:57█████████████████▋        | 128.0 MB 391 kB/s eta 0:01:56  |███████████████████████▊        | 128.6 MB 391 kB/s eta 0:01:54��█████████████████████▉        | 128.9 MB 391 kB/s eta 0:01:54�███████████████████▉        | 129.2 MB 391 kB/s eta 0:01:53██████████████████        | 129.6 MB 391 kB/s eta 0:01:52  |████████████████████████        | 130.2 MB 391 kB/s eta 0:01:50████████████████████████▏       | 130.5 MB 391 kB/s eta 0:01:49��██▏       | 130.8 MB 391 kB/s eta 0:01:49�██████████████████████▎       | 131.2 MB 391 kB/s eta 0:01:48█▎       | 131.5 MB 391 kB/s eta 0:01:47��████████████████▍       | 131.8 MB 391 kB/s eta 0:01:462.1 MB 391 kB/s eta 0:01:45███████████████▌       | 132.4 MB 391 kB/s eta 0:01:45B 391 kB/s eta 0:01:44�█████████████▋       | 133.1 MB 391 kB/s eta 0:01:43��████████████████▋       | 133.4 MB 405 kB/s eta 0:01:393.7 MB 405 kB/s eta 0:01:38███████████████▊       | 134.0 MB 405 kB/s eta 0:01:37B 405 kB/s eta 0:01:36�█████████████▉       | 134.7 MB 405 kB/s eta 0:01:35��█████████████████       | 135.0 MB 405 kB/s eta 0:01:355.3 MB 405 kB/s eta 0:01:34████████████████       | 135.6 MB 405 kB/s eta 0:01:33 | 135.9 MB 405 kB/s eta 0:01:32 | 136.3 MB 405 kB/s eta 0:01:32:01:20�██████████▏     | 141.7 MB 398 kB/s eta 0:01:200:01:19��██████████▎     | 142.3 MB 398 kB/s eta 0:01:18 0:01:17 | 142.9 MB 398 kB/s eta 0:01:16███████████████████▌     | 143.3 MB 398 kB/s eta 0:01:16  | 143.6 MB 398 kB/s eta 0:01:15�███████████████████▋     | 143.9 MB 398 kB/s eta 0:01:14   | 144.2 MB 398 kB/s eta 0:01:13 | 144.5 MB 398 kB/s eta 0:01:12███████████████████▊     | 144.9 MB 398 kB/s eta 0:01:12  | 145.2 MB 398 kB/s eta 0:01:11�███████████████████▉     | 145.5 MB 398 kB/s eta 0:01:10   | 145.8 MB 398 kB/s eta 0:01:09 | 146.1 MB 396 kB/s eta 0:01:09████████████████████     | 146.5 MB 396 kB/s eta 0:01:08��█▏    | 146.8 MB 396 kB/s eta 0:01:07�█▏    | 147.1 MB 396 kB/s eta 0:01:06█▎    | 147.4 MB 396 kB/s eta 0:01:06��████████▎    | 147.6 MB 396 kB/s eta 0:01:05�████████▍    | 147.9 MB 396 kB/s eta 0:01:04████████▍    | 148.3 MB 396 kB/s eta 0:01:03��███████▌    | 148.6 MB 396 kB/s eta 0:01:03�███████▌    | 148.9 MB 396 kB/s eta 0:01:02███████▋    | 149.2 MB 396 kB/s eta 0:01:01��██████▋    | 149.5 MB 396 kB/s eta 0:01:00�██████▊    | 149.8 MB 396 kB/s eta 0:00:59██████▊    | 150.2 MB 396 kB/s eta 0:00:59��█████▉    | 150.5 MB 396 kB/s eta 0:00:58�█████▉    | 150.8 MB 396 kB/s eta 0:00:57██████    | 151.1 MB 396 kB/s eta 0:00:56��█████    | 151.4 MB 396 kB/s eta 0:00:55     |████████████████████████████    | 151.7 MB 396 kB/s eta 0:00:55    |████████████████████████████    | 152.0 MB 410 kB/s eta 0:00:52��   | 152.4 MB 410 kB/s eta 0:00:51████████████████████▏   | 152.7 MB 410 kB/s eta 0:00:513.0 MB 410 kB/s eta 0:00:50��███████████████████▎   | 153.2 MB 410 kB/s eta 0:00:49.5 MB 410 kB/s eta 0:00:49��████████████████▍   | 153.8 MB 410 kB/s eta 0:00:48 kB/s eta 0:00:47��█████████████▌   | 154.4 MB 410 kB/s eta 0:00:46 0:00:46��██████████▋   | 155.0 MB 410 kB/s eta 0:00:45\u001B[K     |████████████████████████████▊   | 155.4 MB 410 kB/s eta 0:00:44████████▉   | 155.8 MB 410 kB/s eta 0:00:43|████████████████████████████▉   | 156.2 MB 410 kB/s eta 0:00:42██████   | 156.5 MB 410 kB/s eta 0:00:41�██████████████████████████   | 156.8 MB 410 kB/s eta 0:00:40███   | 157.1 MB 410 kB/s eta 0:00:40�███████████████████████   | 157.4 MB 410 kB/s eta 0:00:39��██████████▏  | 157.7 MB 410 kB/s eta 0:00:38�███████▏  | 158.0 MB 410 kB/s eta 0:00:37    |█████████████████████████████▎  | 158.2 MB 453 kB/s eta 0:00:34�███████████████████████████▎  | 158.5 MB 453 kB/s eta 0:00:33████████████████████████▍  | 158.8 MB 453 kB/s eta 0:00:32��████████████████████▍  | 159.1 MB 453 kB/s eta 0:00:31█████████████████████████████▌  | 159.6 MB 453 kB/s eta 0:00:30��█████████████████████████▌  | 159.9 MB 453 kB/s eta 0:00:30�██████████████████████▋  | 160.2 MB 453 kB/s eta 0:00:29███████████████████▋  | 160.5 MB 453 kB/s eta 0:00:28    |█████████████████████████████▊  | 160.7 MB 453 kB/s eta 0:00:28�███████████████████████████▊  | 161.0 MB 453 kB/s eta 0:00:27████████████████████████▉  | 161.3 MB 453 kB/s eta 0:00:27��████████████████████▉  | 161.6 MB 453 kB/s eta 0:00:26██████████████████████████████  | 162.1 MB 453 kB/s eta 0:00:25��██████████████████████████  | 162.4 MB 453 kB/s eta 0:00:24�███████████████████████  | 162.8 MB 453 kB/s eta 0:00:24██████████████████████████▏ | 163.1 MB 453 kB/s eta 0:00:23█████▏ | 163.5 MB 402 kB/s eta 0:00:24��█████████████████████▎ | 163.9 MB 402 kB/s eta 0:00:24B/s eta 0:00:23██████████▍ | 164.5 MB 402 kB/s eta 0:00:226 MB 402 kB/s eta 0:00:22�█████████████▌ | 165.0 MB 402 kB/s eta 0:00:21██████████████████████████████▌ | 165.3 MB 402 kB/s eta 0:00:20��█▋ | 165.6 MB 402 kB/s eta 0:00:19█████▊ | 166.1 MB 402 kB/s eta 0:00:18��█████████████████████▊ | 166.4 MB 402 kB/s eta 0:00:17B/s eta 0:00:17██████████▉ | 167.0 MB 402 kB/s eta 0:00:162 MB 402 kB/s eta 0:00:15�██████████████ | 167.5 MB 402 kB/s eta 0:00:15███████████████████████████████ | 167.8 MB 402 kB/s eta 0:00:14��██ | 168.1 MB 402 kB/s eta 0:00:13�███████████████████▏| 168.6 MB 402 kB/s eta 0:00:12�██████████▏| 168.9 MB 402 kB/s eta 0:00:11��█████▎| 169.2 MB 47.3 MB/s eta 0:00:01�██████▎| 169.5 MB 47.3 MB/s eta 0:00:01010:01:00:01 0:00:01��███████████▋| 171.1 MB 47.3 MB/s eta 0:00:01�████████████▊| 171.4 MB 47.3 MB/s eta 0:00:01█████████████▊| 171.7 MB 47.3 MB/s eta 0:00:01��█████████████▉| 172.0 MB 47.3 MB/s eta 0:00:01010:01:00:01\r\n",
      "\u001B[?25hCollecting psutil\r\n",
      "  Using cached psutil-5.9.5-cp36-abi3-manylinux_2_12_x86_64.manylinux2010_x86_64.manylinux_2_17_x86_64.manylinux2014_x86_64.whl (282 kB)\r\n",
      "Collecting zipp>=3.1.0; python_version < \"3.10\"\r\n",
      "  Using cached zipp-3.17.0-py3-none-any.whl (7.4 kB)\r\n",
      "Collecting daal==2023.2.1\r\n",
      "  Downloading daal-2023.2.1-py2.py3-none-manylinux1_x86_64.whl (75.3 MB)\r\n",
      "\u001B[K     |████████████████████████████████| 75.3 MB 393 kB/s eta 0:00:013MB/s eta 0:00:03s eta 0:00:03a 0:00:0300:033                      | 3.0 MB 30.1 MB/s eta 0:00:030:03  | 4.1 MB 30.1 MB/s eta 0:00:03                              | 4.6 MB 30.1 MB/s eta 0:00:03                        | 5.2 MB 30.1 MB/s eta 0:00:035.5 MB 30.1 MB/s eta 0:00:03:00:03▊                             | 6.5 MB 30.1 MB/s eta 0:00:03          | 7.1 MB 30.1 MB/s eta 0:00:03�██▏                            | 7.6 MB 30.1 MB/s eta 0:00:03                  | 9.9 MB 30.1 MB/s eta 0:00:03                     | 10.3 MB 397 kB/s eta 0:02:44███▋                           | 10.8 MB 397 kB/s eta 0:02:4302:42MB 397 kB/s eta 0:02:40:39kB/s eta 0:02:38                  | 13.1 MB 397 kB/s eta 0:02:37     |█████▉                          | 13.6 MB 397 kB/s eta 0:02:3614.1 MB 397 kB/s eta 0:02:347 kB/s eta 0:02:33██▍                         | 15.0 MB 397 kB/s eta 0:02:32397 kB/s eta 0:02:31�█▉                         | 16.0 MB 397 kB/s eta 0:02:307 kB/s eta 0:02:29 0:02:27 MB 397 kB/s eta 0:02:27█████▌                        | 17.7 MB 397 kB/s eta 0:02:25  | 18.1 MB 397 kB/s eta 0:02:24 |████████                        | 18.6 MB 397 kB/s eta 0:02:23  | 19.5 MB 412 kB/s eta 0:02:16 |████████▌                       | 19.9 MB 412 kB/s eta 0:02:15            | 20.4 MB 412 kB/s eta 0:02:1412��█████                       | 21.3 MB 412 kB/s eta 0:02:11     |█████████▎                      | 21.7 MB 412 kB/s eta 0:02:10              | 22.2 MB 412 kB/s eta 0:02:09                  | 23.1 MB 412 kB/s eta 0:02:07 MB 412 kB/s eta 0:02:06��██████                      | 23.8 MB 412 kB/s eta 0:02:05kB/s eta 0:02:04�█▌                     | 24.6 MB 412 kB/s eta 0:02:03:02:02��████▊                     | 25.4 MB 412 kB/s eta 0:02:01kB/s eta 0:02:00��███████▏                    | 26.2 MB 412 kB/s eta 0:01:59 eta 0:01:58              | 27.1 MB 412 kB/s eta 0:01:57kB/s eta 0:02:03                  | 27.8 MB 390 kB/s eta 0:02:02██████████                    | 28.2 MB 390 kB/s eta 0:02:01            | 28.6 MB 390 kB/s eta 0:02:00��██▍                   | 29.1 MB 390 kB/s eta 0:01:59██▌                   | 29.3 MB 390 kB/s eta 0:01:58████████▋                   | 29.8 MB 390 kB/s eta 0:01:57     |████████████▉                   | 30.2 MB 390 kB/s eta 0:01:56/s eta 0:01:55�████▏                  | 31.0 MB 390 kB/s eta 0:01:54 MB 390 kB/s eta 0:01:4847��██████████▌                 | 34.1 MB 390 kB/s eta 0:01:46�███▊                 | 34.5 MB 390 kB/s eta 0:01:45        | 34.9 MB 390 kB/s eta 0:01:44          | 35.3 MB 382 kB/s eta 0:01:45█▏                | 35.7 MB 382 kB/s eta 0:01:441:43��███▌                | 36.5 MB 382 kB/s eta 0:01:42�██▉                | 37.2 MB 382 kB/s eta 0:01:40 0:01:39�███████████▏               | 38.0 MB 382 kB/s eta 0:01:381:3739.0 MB 382 kB/s eta 0:01:35��██▊               | 39.4 MB 382 kB/s eta 0:01:34█████████████               | 39.8 MB 382 kB/s eta 0:01:33:01:32     |█████████████████▍              | 40.9 MB 382 kB/s eta 0:01:31 |█████████████████▌              | 41.3 MB 382 kB/s eta 0:01:30�████████████████▊              | 41.6 MB 382 kB/s eta 0:01:29███████████████▉              | 42.0 MB 382 kB/s eta 0:01:28kB/s eta 0:01:24�█████████████▎             | 43.1 MB 391 kB/s eta 0:01:23▌             | 43.5 MB 391 kB/s eta 0:01:22:01:21█████████             | 44.6 MB 391 kB/s eta 0:01:19| 44.9 MB 391 kB/s eta 0:01:18███▎            | 45.3 MB 391 kB/s eta 0:01:17��█████████████▍            | 45.7 MB 391 kB/s eta 0:01:16kB/s eta 0:01:15█▊            | 46.4 MB 391 kB/s eta 0:01:14��███████████▉            | 46.7 MB 391 kB/s eta 0:01:13████████████████████▎           | 47.8 MB 391 kB/s eta 0:01:11��████████████████▌           | 48.2 MB 391 kB/s eta 0:01:10�█████████████▋           | 48.5 MB 391 kB/s eta 0:01:09██████████▉           | 48.9 MB 391 kB/s eta 0:01:08█████████████████████           | 49.5 MB 380 kB/s eta 0:01:08 0:01:07�████████▎          | 50.2 MB 380 kB/s eta 0:01:06 eta 0:01:06��█████▊          | 51.1 MB 380 kB/s eta 0:01:041:03████████          | 51.8 MB 380 kB/s eta 0:01:02  | 52.2 MB 380 kB/s eta 0:01:01 eta 0:01:00 MB 380 kB/s eta 0:00:59      | 53.4 MB 380 kB/s eta 0:00:58██▉         | 53.8 MB 380 kB/s eta 0:00:57 eta 0:00:56█████████████▎        | 54.7 MB 380 kB/s eta 0:00:55��        | 55.0 MB 380 kB/s eta 0:00:54█████████████▊        | 55.9 MB 383 kB/s eta 0:00:51��        | 56.3 MB 383 kB/s eta 0:00:50[K     |████████████████████████▏       | 56.9 MB 383 kB/s eta 0:00:48.5 MB 383 kB/s eta 0:00:47████▋       | 57.8 MB 383 kB/s eta 0:00:46��████████████▊       | 58.2 MB 383 kB/s eta 0:00:45�█████████████████████▉       | 58.5 MB 383 kB/s eta 0:00:4459.1 MB 383 kB/s eta 0:00:43     |█████████████████████████▎      | 59.4 MB 383 kB/s eta 0:00:42�████████████████▍      | 59.8 MB 383 kB/s eta 0:00:41��█████▌      | 60.1 MB 383 kB/s eta 0:00:40��█████████████████▉      | 60.7 MB 383 kB/s eta 0:00:39████████      | 61.0 MB 383 kB/s eta 0:00:3861.4 MB 383 kB/s eta 0:00:37�█▏     | 61.7 MB 383 kB/s eta 0:00:36  | 62.3 MB 382 kB/s eta 0:00:35��████████▋     | 62.6 MB 382 kB/s eta 0:00:34�███████████████████▊     | 62.9 MB 382 kB/s eta 0:00:3332�████▏    | 63.9 MB 382 kB/s eta 0:00:302 kB/s eta 0:00:30��█████████████████████████▍    | 64.5 MB 382 kB/s eta 0:00:29███████████████▌    | 64.8 MB 382 kB/s eta 0:00:28��███████████████████▉    | 65.5 MB 382 kB/s eta 0:00:26██████████    | 65.8 MB 382 kB/s eta 0:00:25  | 66.1 MB 382 kB/s eta 0:00:25��██████▎   | 66.4 MB 382 kB/s eta 0:00:24| 66.9 MB 382 kB/s eta 0:00:22████████▋   | 67.2 MB 382 kB/s eta 0:00:22██████████████████▊   | 67.6 MB 382 kB/s eta 0:00:21| 68.2 MB 477 kB/s eta 0:00:15█████████   | 68.5 MB 477 kB/s eta 0:00:15477 kB/s eta 0:00:14��█████████████████████████▍  | 69.1 MB 477 kB/s eta 0:00:13�████████████▌  | 69.4 MB 477 kB/s eta 0:00:13  | 69.7 MB 477 kB/s eta 0:00:12 |█████████████████████████████▊  | 70.1 MB 477 kB/s eta 0:00:11�█████████████████  | 70.4 MB 477 kB/s eta 0:00:11��██████████████████████████  | 70.6 MB 477 kB/s eta 0:00:10�█████████████  | 70.9 MB 477 kB/s eta 0:00:10�███████████████████▎ | 71.2 MB 477 kB/s eta 0:00:09██████████████████████████▍ | 71.5 MB 477 kB/s eta 0:00:09477 kB/s eta 0:00:08██▊ | 72.3 MB 477 kB/s eta 0:00:07��████████▉ | 72.6 MB 477 kB/s eta 0:00:06�████████████████ | 72.9 MB 477 kB/s eta 0:00:06ta 0:00:05█████████▏| 73.4 MB 477 kB/s eta 0:00:050:04█████████████████▍| 74.0 MB 477 kB/s eta 0:00:03��███████████████▋| 74.5 MB 393 kB/s eta 0:00:03 MB 393 kB/s eta 0:00:02��████████████████████████| 75.1 MB 393 kB/s eta 0:00:01\r\n",
      "\u001B[?25hCollecting soupsieve>1.2\r\n",
      "  Using cached soupsieve-2.5-py3-none-any.whl (36 kB)\r\n",
      "Collecting nltk>=3.1; python_version >= \"3\"\r\n",
      "  Downloading nltk-3.8.1-py3-none-any.whl (1.5 MB)\r\n",
      "\u001B[K     |████████████████████████████████| 1.5 MB 95.1 MB/s eta 0:00:01eta 0:00:01B/s eta 0:00:01█████████████████████▊         | 1.1 MB 95.1 MB/s eta 0:00:01��████████████████████████████▊  | 1.4 MB 95.1 MB/s eta 0:00:01\r\n",
      "\u001B[?25hCollecting confection<1.0.0,>=0.0.1\r\n",
      "  Downloading confection-0.1.3-py3-none-any.whl (34 kB)\r\n",
      "Collecting blis<0.8.0,>=0.7.8\r\n",
      "  Downloading blis-0.7.10-cp38-cp38-manylinux_2_17_x86_64.manylinux2014_x86_64.whl (10.2 MB)\r\n",
      "\u001B[K     |████████████████████████████████| 10.2 MB 374 kB/s eta 0:00:01a 0:00:01                   | 808 kB 94.6 MB/s eta 0:00:01.6 MB/s eta 0:00:01  |█████▊                          | 1.8 MB 94.6 MB/s eta 0:00:01.6 MB/s eta 0:00:01  | 2.6 MB 94.6 MB/s eta 0:00:011 MB 94.6 MB/s eta 0:00:01          | 3.5 MB 94.6 MB/s eta 0:00:01�███████████▍                   | 3.9 MB 94.6 MB/s eta 0:00:01          | 4.3 MB 94.6 MB/s eta 0:00:014.6 MB 94.6 MB/s eta 0:00:01�▉                | 5.0 MB 94.6 MB/s eta 0:00:01█████               | 5.4 MB 94.6 MB/s eta 0:00:01��████▎             | 5.8 MB 94.6 MB/s eta 0:00:01�█▍           | 6.5 MB 94.6 MB/s eta 0:00:01�██████▌          | 6.8 MB 94.6 MB/s eta 0:00:01      | 7.2 MB 94.6 MB/s eta 0:00:01�██████████████▊        | 7.5 MB 94.6 MB/s eta 0:00:01/s eta 0:00:06████████████████████▌     | 8.4 MB 374 kB/s eta 0:00:05     |███████████████████████████▌    | 8.7 MB 374 kB/s eta 0:00:04█████████████████▌   | 9.1 MB 374 kB/s eta 0:00:03████████████▏ | 9.6 MB 374 kB/s eta 0:00:02███████████▏| 9.9 MB 374 kB/s eta 0:00:01\r\n",
      "\u001B[?25hCollecting annotated-types>=0.4.0\r\n",
      "  Downloading annotated_types-0.5.0-py3-none-any.whl (11 kB)\r\n",
      "Collecting pydantic-core==2.6.3\r\n",
      "  Downloading pydantic_core-2.6.3-cp38-cp38-manylinux_2_17_x86_64.manylinux2014_x86_64.whl (1.9 MB)\r\n",
      "\u001B[K     |████████████████████████████████| 1.9 MB 92.3 MB/s eta 0:00:01  | 256 kB 92.3 MB/s eta 0:00:01�███▎                   | 716 kB 92.3 MB/s eta 0:00:013 MB/s eta 0:00:01��███████████████████████       | 1.5 MB 92.3 MB/s eta 0:00:01��██████████████████▌ | 1.8 MB 92.3 MB/s eta 0:00:01\r\n",
      "\u001B[?25hRequirement already satisfied: wheel<1.0,>=0.23.0 in /usr/lib/python3/dist-packages (from astunparse>=1.6.0->tensorflow->-r /tmp/pycharm_project_625/requirements.txt (line 11)) (0.34.2)\r\n",
      "Requirement already satisfied: google-auth<3,>=1.6.3 in /home/kausik/.local/lib/python3.8/site-packages (from tensorboard<2.14,>=2.13->tensorflow->-r /tmp/pycharm_project_625/requirements.txt (line 11)) (2.23.0)\r\n",
      "Collecting werkzeug>=1.0.1\r\n",
      "  Downloading werkzeug-2.3.7-py3-none-any.whl (242 kB)\r\n",
      "\u001B[K     |████████████████████████████████| 242 kB 100.6 MB/s eta 0:00:01�█████████████████     | 204 kB 100.6 MB/s eta 0:00:01\r\n",
      "\u001B[?25hCollecting tensorboard-data-server<0.8.0,>=0.7.0\r\n",
      "  Downloading tensorboard_data_server-0.7.1-py3-none-manylinux2014_x86_64.whl (6.6 MB)\r\n",
      "\u001B[K     |████████████████████████████████| 6.6 MB 72.6 MB/s eta 0:00:011█                            | 808 kB 72.6 MB/s eta 0:00:01                     | 1.3 MB 72.6 MB/s eta 0:00:011█▊                     | 2.2 MB 72.6 MB/s eta 0:00:01MB/s eta 0:00:01�█████████▏                 | 2.9 MB 72.6 MB/s eta 0:00:01 |████████████████                | 3.3 MB 72.6 MB/s eta 0:00:01��██              | 3.7 MB 72.6 MB/s eta 0:00:01�████████████████████▌          | 4.4 MB 72.6 MB/s eta 0:00:01�██████████████████▏        | 4.8 MB 72.6 MB/s eta 0:00:01�███████████████▉       | 5.1 MB 72.6 MB/s eta 0:00:01██████▍     | 5.4 MB 72.6 MB/s eta 0:00:01MB/s eta 0:00:01\r\n",
      "\u001B[?25hCollecting google-auth-oauthlib<1.1,>=0.5\r\n",
      "  Downloading google_auth_oauthlib-1.0.0-py2.py3-none-any.whl (18 kB)\r\n",
      "Collecting markdown>=2.6.8\r\n",
      "  Downloading Markdown-3.4.4-py3-none-any.whl (94 kB)\r\n",
      "\u001B[K     |████████████████████████████████| 94 kB 6.8 MB/s  eta 0:00:01\r\n",
      "\u001B[?25hCollecting bleach\r\n",
      "  Using cached bleach-6.0.0-py3-none-any.whl (162 kB)\r\n",
      "Requirement already satisfied: certifi in /usr/lib/python3/dist-packages (from kaggle->opendatasets->-r /tmp/pycharm_project_625/requirements.txt (line 12)) (2019.11.28)\r\n",
      "Collecting python-slugify\r\n",
      "  Downloading python_slugify-8.0.1-py2.py3-none-any.whl (9.7 kB)\r\n",
      "Requirement already satisfied: urllib3 in /usr/lib/python3/dist-packages (from kaggle->opendatasets->-r /tmp/pycharm_project_625/requirements.txt (line 12)) (1.25.8)\r\n",
      "Collecting aiosignal>=1.1.2\r\n",
      "  Downloading aiosignal-1.3.1-py3-none-any.whl (7.6 kB)\r\n",
      "Collecting frozenlist>=1.1.1\r\n",
      "  Downloading frozenlist-1.4.0-cp38-cp38-manylinux_2_5_x86_64.manylinux1_x86_64.manylinux_2_17_x86_64.manylinux2014_x86_64.whl (220 kB)\r\n",
      "\u001B[K     |████████████████████████████████| 220 kB 104.5 MB/s eta 0:00:01\r\n",
      "\u001B[?25hCollecting async-timeout<5.0,>=4.0.0a3\r\n",
      "  Downloading async_timeout-4.0.3-py3-none-any.whl (5.7 kB)\r\n",
      "Collecting yarl<2.0,>=1.0\r\n",
      "  Downloading yarl-1.9.2-cp38-cp38-manylinux_2_17_x86_64.manylinux2014_x86_64.whl (266 kB)\r\n",
      "\u001B[K     |████████████████████████████████| 266 kB 98.2 MB/s eta 0:00:01███████▌       | 204 kB 98.2 MB/s eta 0:00:01\r\n",
      "\u001B[?25hCollecting charset-normalizer<4.0,>=2.0\r\n",
      "  Using cached charset_normalizer-3.2.0-cp38-cp38-manylinux_2_17_x86_64.manylinux2014_x86_64.whl (199 kB)\r\n",
      "Collecting multidict<7.0,>=4.5\r\n",
      "  Downloading multidict-6.0.4-cp38-cp38-manylinux_2_17_x86_64.manylinux2014_x86_64.whl (121 kB)\r\n",
      "\u001B[K     |████████████████████████████████| 121 kB 59.4 MB/s eta 0:00:01\r\n",
      "\u001B[?25hRequirement already satisfied: attrs>=17.3.0 in /usr/lib/python3/dist-packages (from aiohttp->datasets->-r /tmp/pycharm_project_625/requirements.txt (line 13)) (19.3.0)\r\n",
      "Collecting mpmath>=0.19\r\n",
      "  Downloading mpmath-1.3.0-py3-none-any.whl (536 kB)\r\n",
      "\u001B[K     |████████████████████████████████| 536 kB 100.4 MB/s eta 0:00:01[K     |█████████████████████████       | 419 kB 100.4 MB/s eta 0:00:01\r\n",
      "\u001B[?25hCollecting cmake\r\n",
      "  Downloading cmake-3.27.5-py2.py3-none-manylinux2014_x86_64.manylinux_2_17_x86_64.whl (26.1 MB)\r\n",
      "\u001B[K     |████████████████████████████████| 26.1 MB 365 kB/s eta 0:00:01\r01\u001B[K     |█                               | 829 kB 56.2 MB/s eta 0:00:01eta 0:00:01\u001B[K     |██▍                             | 1.9 MB 56.2 MB/s eta 0:00:01                         | 2.4 MB 56.2 MB/s eta 0:00:01     | 2.9 MB 56.2 MB/s eta 0:00:01                           | 3.5 MB 56.2 MB/s eta 0:00:01  |████▉                           | 4.0 MB 56.2 MB/s eta 0:00:01��██▌                          | 4.4 MB 56.2 MB/s eta 0:00:01B/s eta 0:00:01██▌                         | 5.3 MB 56.2 MB/s eta 0:00:01 56.2 MB/s eta 0:00:01�████▊                        | 6.3 MB 56.2 MB/s eta 0:00:01▎                       | 6.7 MB 56.2 MB/s eta 0:00:01   |█████████▎                      | 7.6 MB 56.2 MB/s eta 0:00:01            | 8.0 MB 56.2 MB/s eta 0:00:01                | 8.5 MB 56.2 MB/s eta 0:00:01   |███████████                     | 8.9 MB 56.2 MB/s eta 0:00:01|███████████▉                    | 9.6 MB 378 kB/s eta 0:00:440.0 MB 378 kB/s eta 0:00:43               | 10.5 MB 378 kB/s eta 0:00:4200:41378 kB/s eta 0:00:39[K     |██████████████▊                 | 12.0 MB 378 kB/s eta 0:00:38   |███████████████▎                | 12.4 MB 378 kB/s eta 0:00:37�▊                | 12.8 MB 378 kB/s eta 0:00:36:00:34    | 13.8 MB 378 kB/s eta 0:00:3332[K     |█████████████████▉              | 14.6 MB 378 kB/s eta 0:00:31████████▏             | 14.8 MB 378 kB/s eta 0:00:30| 15.2 MB 378 kB/s eta 0:00:29   |███████████████████▏            | 15.6 MB 378 kB/s eta 0:00:28.9 MB 378 kB/s eta 0:00:27██████████████▌           | 16.7 MB 394 kB/s eta 0:00:24��██████████▉           | 17.0 MB 394 kB/s eta 0:00:23��███████████████████▎          | 17.4 MB 394 kB/s eta 0:00:23█▊          | 17.7 MB 394 kB/s eta 0:00:22     |██████████████████████▌         | 18.3 MB 394 kB/s eta 0:00:20 0:00:19███▎        | 19.0 MB 394 kB/s eta 0:00:18ta 0:00:180:16| 20.2 MB 394 kB/s eta 0:00:15��███████████▏      | 20.5 MB 394 kB/s eta 0:00:14█▋      | 20.9 MB 394 kB/s eta 0:00:140:12�     | 21.8 MB 394 kB/s eta 0:00:11�████████████▏    | 22.1 MB 394 kB/s eta 0:00:11��█▌    | 22.4 MB 394 kB/s eta 0:00:10     |████████████████████████████▎   | 23.0 MB 365 kB/s eta 0:00:09.3 MB 365 kB/s eta 0:00:08��███████   | 23.7 MB 365 kB/s eta 0:00:07ta 0:00:06��█████████████████████████▋  | 24.2 MB 365 kB/s eta 0:00:06�█████████████  | 24.5 MB 365 kB/s eta 0:00:05████████████████▍ | 24.8 MB 365 kB/s eta 0:00:04��██████████████████████▉ | 25.1 MB 365 kB/s eta 0:00:03███████████▍| 25.6 MB 365 kB/s eta 0:00:02ta 0:00:01\r\n",
      "\u001B[?25hCollecting lit\r\n",
      "  Downloading lit-16.0.6.tar.gz (153 kB)\r\n",
      "\u001B[K     |████████████████████████████████| 153 kB 103.6 MB/s eta 0:00:01\r\n",
      "\u001B[?25h  Installing build dependencies ... \u001B[?25ldone\r\n",
      "\u001B[?25h  Getting requirements to build wheel ... \u001B[?25ldone\r\n",
      "\u001B[?25h  Installing backend dependencies ... \u001B[?25ldone\r\n",
      "\u001B[?25h    Preparing wheel metadata ... \u001B[?25ldone\r\n",
      "\u001B[?25hCollecting tbb==2021.*\r\n",
      "  Downloading tbb-2021.10.0-py2.py3-none-manylinux1_x86_64.whl (4.4 MB)\r\n",
      "\u001B[K     |████████████████████████████████| 4.4 MB 68.8 MB/s eta 0:00:01/s eta 0:00:01    | 778 kB 68.8 MB/s eta 0:00:01█                       | 1.2 MB 68.8 MB/s eta 0:00:010101MB 68.8 MB/s eta 0:00:01 |██████████████████████          | 3.1 MB 68.8 MB/s eta 0:00:01██▍       | 3.4 MB 68.8 MB/s eta 0:00:01MB/s eta 0:00:010:01\r\n",
      "\u001B[?25hRequirement already satisfied: pyasn1-modules>=0.2.1 in /usr/lib/python3/dist-packages (from google-auth<3,>=1.6.3->tensorboard<2.14,>=2.13->tensorflow->-r /tmp/pycharm_project_625/requirements.txt (line 11)) (0.2.1)\r\n",
      "Requirement already satisfied: cachetools<6.0,>=2.0.0 in /home/kausik/.local/lib/python3.8/site-packages (from google-auth<3,>=1.6.3->tensorboard<2.14,>=2.13->tensorflow->-r /tmp/pycharm_project_625/requirements.txt (line 11)) (5.3.1)\r\n",
      "Requirement already satisfied: rsa<5,>=3.1.4 in /home/kausik/.local/lib/python3.8/site-packages (from google-auth<3,>=1.6.3->tensorboard<2.14,>=2.13->tensorflow->-r /tmp/pycharm_project_625/requirements.txt (line 11)) (4.9)\r\n",
      "Collecting MarkupSafe>=2.1.1\r\n",
      "  Using cached MarkupSafe-2.1.3-cp38-cp38-manylinux_2_17_x86_64.manylinux2014_x86_64.whl (25 kB)\r\n",
      "Collecting requests-oauthlib>=0.7.0\r\n",
      "  Downloading requests_oauthlib-1.3.1-py2.py3-none-any.whl (23 kB)\r\n",
      "Collecting importlib-metadata>=4.4; python_version < \"3.10\"\r\n",
      "  Using cached importlib_metadata-6.8.0-py3-none-any.whl (22 kB)\r\n",
      "Collecting webencodings\r\n",
      "  Using cached webencodings-0.5.1-py2.py3-none-any.whl (11 kB)\r\n",
      "Collecting text-unidecode>=1.3\r\n",
      "  Downloading text_unidecode-1.3-py2.py3-none-any.whl (78 kB)\r\n",
      "\u001B[K     |████████████████████████████████| 78 kB 234 kB/s  eta 0:00:01\r\n",
      "\u001B[?25hRequirement already satisfied: idna>=2.0 in /usr/lib/python3/dist-packages (from yarl<2.0,>=1.0->aiohttp->datasets->-r /tmp/pycharm_project_625/requirements.txt (line 13)) (2.8)\r\n",
      "Requirement already satisfied: pyasn1>=0.1.3 in /usr/lib/python3/dist-packages (from rsa<5,>=3.1.4->google-auth<3,>=1.6.3->tensorboard<2.14,>=2.13->tensorflow->-r /tmp/pycharm_project_625/requirements.txt (line 11)) (0.4.2)\r\n",
      "Requirement already satisfied: oauthlib>=3.0.0 in /usr/lib/python3/dist-packages (from requests-oauthlib>=0.7.0->google-auth-oauthlib<1.1,>=0.5->tensorboard<2.14,>=2.13->tensorflow->-r /tmp/pycharm_project_625/requirements.txt (line 11)) (3.1.0)\r\n",
      "Building wheels for collected packages: kaggle, lit\r\n",
      "  Building wheel for kaggle (setup.py) ... \u001B[?25ldone\r\n",
      "\u001B[?25h  Created wheel for kaggle: filename=kaggle-1.5.16-py3-none-any.whl size=110688 sha256=fd60f93a073bb75e4c78fa2a4d9927308d81cde280328757274510c56d20b9b2\r\n",
      "  Stored in directory: /home/kausik/.cache/pip/wheels/5a/ab/50/e224f599a07faf6d398a8600796012da271b7e5e7f2a3ab2b8\r\n",
      "  Building wheel for lit (PEP 517) ... \u001B[?25ldone\r\n",
      "\u001B[?25h  Created wheel for lit: filename=lit-16.0.6-py3-none-any.whl size=93584 sha256=08406095dfcdd4373dfd3618864a66c6694ab99e3d425c7ecd67ba649c7d1732\r\n",
      "  Stored in directory: /home/kausik/.cache/pip/wheels/05/ab/f1/0102fea49a41c753f0e79a1a4012417d5d7ef0f93224694472\r\n",
      "Successfully built kaggle lit\r\n",
      "\u001B[31mERROR: typer 0.9.0 has requirement click<9.0.0,>=7.1.1, but you'll have click 7.0 which is incompatible.\u001B[0m\r\n",
      "\u001B[31mERROR: pydantic-core 2.6.3 has requirement typing-extensions!=4.7.0,>=4.6.0, but you'll have typing-extensions 4.5.0 which is incompatible.\u001B[0m\r\n",
      "\u001B[31mERROR: pydantic 2.3.0 has requirement typing-extensions>=4.6.1, but you'll have typing-extensions 4.5.0 which is incompatible.\u001B[0m\r\n",
      "\u001B[31mERROR: tensorflow 2.13.0 has requirement numpy<=1.24.3,>=1.22, but you'll have numpy 1.24.4 which is incompatible.\u001B[0m\r\n",
      "Installing collected packages: pytz, tzdata, numpy, python-dateutil, pandas, kiwisolver, contourpy, fonttools, pillow, cycler, zipp, importlib-resources, packaging, matplotlib, seaborn, scipy, joblib, threadpoolctl, scikit-learn, tbb, daal, daal4py, scikit-learn-intelex, filelock, tqdm, frozenlist, aiosignal, async-timeout, multidict, yarl, charset-normalizer, aiohttp, fsspec, typing-extensions, huggingface-hub, safetensors, tokenizers, transformers, smart-open, typer, pathy, wasabi, murmurhash, cymem, preshed, annotated-types, pydantic-core, pydantic, catalogue, srsly, confection, blis, thinc, langcodes, spacy-loggers, spacy-legacy, spacy, soupsieve, beautifulsoup4, nltk, TextBlob, text-hammer, astunparse, termcolor, absl-py, tensorflow-estimator, h5py, opt-einsum, MarkupSafe, werkzeug, tensorboard-data-server, grpcio, requests-oauthlib, google-auth-oauthlib, importlib-metadata, markdown, tensorboard, flatbuffers, keras, gast, wrapt, libclang, tensorflow-io-gcs-filesystem, google-pasta, tensorflow, webencodings, bleach, text-unidecode, python-slugify, kaggle, opendatasets, dill, multiprocess, pyarrow, xxhash, datasets, nvidia-nvtx-cu11, nvidia-cublas-cu11, nvidia-cudnn-cu11, nvidia-curand-cu11, nvidia-cufft-cu11, nvidia-cusolver-cu11, nvidia-nccl-cu11, nvidia-cuda-runtime-cu11, mpmath, sympy, nvidia-cuda-nvrtc-cu11, cmake, lit, triton, networkx, nvidia-cuda-cupti-cu11, nvidia-cusparse-cu11, torch, psutil, accelerate\r\n",
      "\u001B[33m  WARNING: The scripts f2py, f2py3 and f2py3.8 are installed in '/home/kausik/.local/bin' which is not on PATH.\r\n",
      "  Consider adding this directory to PATH or, if you prefer to suppress this warning, use --no-warn-script-location.\u001B[0m\r\n",
      "\u001B[33m  WARNING: The scripts fonttools, pyftmerge, pyftsubset and ttx are installed in '/home/kausik/.local/bin' which is not on PATH.\r\n",
      "  Consider adding this directory to PATH or, if you prefer to suppress this warning, use --no-warn-script-location.\u001B[0m\r\n",
      "\u001B[33m  WARNING: The script tqdm is installed in '/home/kausik/.local/bin' which is not on PATH.\r\n",
      "  Consider adding this directory to PATH or, if you prefer to suppress this warning, use --no-warn-script-location.\u001B[0m\r\n",
      "\u001B[33m  WARNING: The script normalizer is installed in '/home/kausik/.local/bin' which is not on PATH.\r\n",
      "  Consider adding this directory to PATH or, if you prefer to suppress this warning, use --no-warn-script-location.\u001B[0m\r\n",
      "\u001B[33m  WARNING: The script huggingface-cli is installed in '/home/kausik/.local/bin' which is not on PATH.\r\n",
      "  Consider adding this directory to PATH or, if you prefer to suppress this warning, use --no-warn-script-location.\u001B[0m\r\n",
      "\u001B[33m  WARNING: The script transformers-cli is installed in '/home/kausik/.local/bin' which is not on PATH.\r\n",
      "  Consider adding this directory to PATH or, if you prefer to suppress this warning, use --no-warn-script-location.\u001B[0m\r\n",
      "\u001B[33m  WARNING: The script pathy is installed in '/home/kausik/.local/bin' which is not on PATH.\r\n",
      "  Consider adding this directory to PATH or, if you prefer to suppress this warning, use --no-warn-script-location.\u001B[0m\r\n",
      "\u001B[33m  WARNING: The script spacy is installed in '/home/kausik/.local/bin' which is not on PATH.\r\n",
      "  Consider adding this directory to PATH or, if you prefer to suppress this warning, use --no-warn-script-location.\u001B[0m\r\n",
      "\u001B[33m  WARNING: The script nltk is installed in '/home/kausik/.local/bin' which is not on PATH.\r\n",
      "  Consider adding this directory to PATH or, if you prefer to suppress this warning, use --no-warn-script-location.\u001B[0m\r\n",
      "\u001B[33m  WARNING: The script google-oauthlib-tool is installed in '/home/kausik/.local/bin' which is not on PATH.\r\n",
      "  Consider adding this directory to PATH or, if you prefer to suppress this warning, use --no-warn-script-location.\u001B[0m\r\n",
      "\u001B[33m  WARNING: The script markdown_py is installed in '/home/kausik/.local/bin' which is not on PATH.\r\n",
      "  Consider adding this directory to PATH or, if you prefer to suppress this warning, use --no-warn-script-location.\u001B[0m\r\n",
      "\u001B[33m  WARNING: The script tensorboard is installed in '/home/kausik/.local/bin' which is not on PATH.\r\n",
      "  Consider adding this directory to PATH or, if you prefer to suppress this warning, use --no-warn-script-location.\u001B[0m\r\n",
      "\u001B[33m  WARNING: The scripts estimator_ckpt_converter, import_pb_to_tensorboard, saved_model_cli, tensorboard, tf_upgrade_v2, tflite_convert, toco and toco_from_protos are installed in '/home/kausik/.local/bin' which is not on PATH.\r\n",
      "  Consider adding this directory to PATH or, if you prefer to suppress this warning, use --no-warn-script-location.\u001B[0m\r\n",
      "\u001B[33m  WARNING: The script slugify is installed in '/home/kausik/.local/bin' which is not on PATH.\r\n",
      "  Consider adding this directory to PATH or, if you prefer to suppress this warning, use --no-warn-script-location.\u001B[0m\r\n",
      "\u001B[33m  WARNING: The script kaggle is installed in '/home/kausik/.local/bin' which is not on PATH.\r\n",
      "  Consider adding this directory to PATH or, if you prefer to suppress this warning, use --no-warn-script-location.\u001B[0m\r\n",
      "\u001B[33m  WARNING: The script datasets-cli is installed in '/home/kausik/.local/bin' which is not on PATH.\r\n",
      "  Consider adding this directory to PATH or, if you prefer to suppress this warning, use --no-warn-script-location.\u001B[0m\r\n",
      "\u001B[33m  WARNING: The script isympy is installed in '/home/kausik/.local/bin' which is not on PATH.\r\n",
      "  Consider adding this directory to PATH or, if you prefer to suppress this warning, use --no-warn-script-location.\u001B[0m\r\n",
      "\u001B[33m  WARNING: The scripts cmake, cpack and ctest are installed in '/home/kausik/.local/bin' which is not on PATH.\r\n",
      "  Consider adding this directory to PATH or, if you prefer to suppress this warning, use --no-warn-script-location.\u001B[0m\r\n",
      "\u001B[33m  WARNING: The script lit is installed in '/home/kausik/.local/bin' which is not on PATH.\r\n",
      "  Consider adding this directory to PATH or, if you prefer to suppress this warning, use --no-warn-script-location.\u001B[0m\r\n",
      "\u001B[33m  WARNING: The scripts convert-caffe2-to-onnx, convert-onnx-to-caffe2 and torchrun are installed in '/home/kausik/.local/bin' which is not on PATH.\r\n",
      "  Consider adding this directory to PATH or, if you prefer to suppress this warning, use --no-warn-script-location.\u001B[0m\r\n",
      "\u001B[33m  WARNING: The scripts accelerate, accelerate-config, accelerate-estimate-memory and accelerate-launch are installed in '/home/kausik/.local/bin' which is not on PATH.\r\n",
      "  Consider adding this directory to PATH or, if you prefer to suppress this warning, use --no-warn-script-location.\u001B[0m\r\n",
      "Successfully installed MarkupSafe-2.1.3 TextBlob-0.17.1 absl-py-2.0.0 accelerate-0.23.0 aiohttp-3.8.5 aiosignal-1.3.1 annotated-types-0.5.0 astunparse-1.6.3 async-timeout-4.0.3 beautifulsoup4-4.9.1 bleach-6.0.0 blis-0.7.10 catalogue-2.0.9 charset-normalizer-3.2.0 cmake-3.27.5 confection-0.1.3 contourpy-1.1.1 cycler-0.11.0 cymem-2.0.8 daal-2023.2.1 daal4py-2023.2.1 datasets-2.14.5 dill-0.3.7 filelock-3.12.4 flatbuffers-23.5.26 fonttools-4.42.1 frozenlist-1.4.0 fsspec-2023.6.0 gast-0.4.0 google-auth-oauthlib-1.0.0 google-pasta-0.2.0 grpcio-1.58.0 h5py-3.9.0 huggingface-hub-0.17.2 importlib-metadata-6.8.0 importlib-resources-6.1.0 joblib-1.3.2 kaggle-1.5.16 keras-2.13.1 kiwisolver-1.4.5 langcodes-3.3.0 libclang-16.0.6 lit-16.0.6 markdown-3.4.4 matplotlib-3.7.3 mpmath-1.3.0 multidict-6.0.4 multiprocess-0.70.15 murmurhash-1.0.10 networkx-3.1 nltk-3.8.1 numpy-1.24.4 nvidia-cublas-cu11-11.10.3.66 nvidia-cuda-cupti-cu11-11.7.101 nvidia-cuda-nvrtc-cu11-11.7.99 nvidia-cuda-runtime-cu11-11.7.99 nvidia-cudnn-cu11-8.5.0.96 nvidia-cufft-cu11-10.9.0.58 nvidia-curand-cu11-10.2.10.91 nvidia-cusolver-cu11-11.4.0.1 nvidia-cusparse-cu11-11.7.4.91 nvidia-nccl-cu11-2.14.3 nvidia-nvtx-cu11-11.7.91 opendatasets-0.1.22 opt-einsum-3.3.0 packaging-23.1 pandas-2.0.3 pathy-0.10.2 pillow-10.0.1 preshed-3.0.9 psutil-5.9.5 pyarrow-13.0.0 pydantic-2.3.0 pydantic-core-2.6.3 python-dateutil-2.8.2 python-slugify-8.0.1 pytz-2023.3.post1 requests-oauthlib-1.3.1 safetensors-0.3.3 scikit-learn-1.3.1 scikit-learn-intelex-2023.2.1 scipy-1.10.1 seaborn-0.12.2 smart-open-6.4.0 soupsieve-2.5 spacy-3.6.1 spacy-legacy-3.0.12 spacy-loggers-1.0.5 srsly-2.4.7 sympy-1.12 tbb-2021.10.0 tensorboard-2.13.0 tensorboard-data-server-0.7.1 tensorflow-2.13.0 tensorflow-estimator-2.13.0 tensorflow-io-gcs-filesystem-0.34.0 termcolor-2.3.0 text-hammer-0.1.5 text-unidecode-1.3 thinc-8.1.12 threadpoolctl-3.2.0 tokenizers-0.13.3 torch-2.0.1 tqdm-4.66.1 transformers-4.33.2 triton-2.0.0 typer-0.9.0 typing-extensions-4.5.0 tzdata-2023.3 wasabi-1.1.2 webencodings-0.5.1 werkzeug-2.3.7 wrapt-1.15.0 xxhash-3.3.0 yarl-1.9.2 zipp-3.17.0\r\n"
     ]
    }
   ],
   "source": [
    "!pip install -r /tmp/pycharm_project_625/requirements.txt -q"
   ]
  },
  {
   "cell_type": "code",
   "execution_count": 5,
   "outputs": [
    {
     "name": "stdout",
     "output_type": "stream",
     "text": [
      "Please provide your Kaggle credentials to download this dataset. Learn more: http://bit.ly/kaggle-creds\n",
      "Your Kaggle username: Your Kaggle Key: Downloading sentiment140.zip to ./sentiment140\n"
     ]
    },
    {
     "name": "stderr",
     "output_type": "stream",
     "text": [
      "100%|██████████| 80.9M/80.9M [00:06<00:00, 12.7MB/s]\n"
     ]
    },
    {
     "name": "stdout",
     "output_type": "stream",
     "text": []
    }
   ],
   "source": [
    "import opendatasets as od\n",
    "\n",
    "od.download(\"https://www.kaggle.com/datasets/kazanova/sentiment140\")"
   ],
   "metadata": {
    "collapsed": false,
    "ExecuteTime": {
     "end_time": "2023-09-21T17:14:57.812136Z",
     "start_time": "2023-09-21T17:14:13.588276Z"
    }
   },
   "id": "24baa191e81bc95e"
  },
  {
   "cell_type": "code",
   "execution_count": 6,
   "outputs": [
    {
     "name": "stdout",
     "output_type": "stream",
     "text": [
      "final.py            main.py        Sentiment.ipynb  yt_link_extractor.py\r\n",
      "huggingfacce.ipynb  \u001B[0m\u001B[01;34msentiment140\u001B[0m/  translate.py\r\n"
     ]
    }
   ],
   "source": [
    "ls"
   ],
   "metadata": {
    "collapsed": false,
    "ExecuteTime": {
     "end_time": "2023-09-21T17:21:45.472224Z",
     "start_time": "2023-09-21T17:21:45.319041Z"
    }
   },
   "id": "7226086341631a7d"
  },
  {
   "cell_type": "code",
   "execution_count": 10,
   "outputs": [
    {
     "data": {
      "text/plain": "   sentiment          id                          date     query  \\\n0          0  1467810369  Mon Apr 06 22:19:45 PDT 2009  NO_QUERY   \n1          0  1467810672  Mon Apr 06 22:19:49 PDT 2009  NO_QUERY   \n2          0  1467810917  Mon Apr 06 22:19:53 PDT 2009  NO_QUERY   \n3          0  1467811184  Mon Apr 06 22:19:57 PDT 2009  NO_QUERY   \n4          0  1467811193  Mon Apr 06 22:19:57 PDT 2009  NO_QUERY   \n\n              user                                               text  \n0  _TheSpecialOne_  @switchfoot http://twitpic.com/2y1zl - Awww, t...  \n1    scotthamilton  is upset that he can't update his Facebook by ...  \n2         mattycus  @Kenichan I dived many times for the ball. Man...  \n3          ElleCTF    my whole body feels itchy and like its on fire   \n4           Karoli  @nationwideclass no, it's not behaving at all....  ",
      "text/html": "<div>\n<style scoped>\n    .dataframe tbody tr th:only-of-type {\n        vertical-align: middle;\n    }\n\n    .dataframe tbody tr th {\n        vertical-align: top;\n    }\n\n    .dataframe thead th {\n        text-align: right;\n    }\n</style>\n<table border=\"1\" class=\"dataframe\">\n  <thead>\n    <tr style=\"text-align: right;\">\n      <th></th>\n      <th>sentiment</th>\n      <th>id</th>\n      <th>date</th>\n      <th>query</th>\n      <th>user</th>\n      <th>text</th>\n    </tr>\n  </thead>\n  <tbody>\n    <tr>\n      <th>0</th>\n      <td>0</td>\n      <td>1467810369</td>\n      <td>Mon Apr 06 22:19:45 PDT 2009</td>\n      <td>NO_QUERY</td>\n      <td>_TheSpecialOne_</td>\n      <td>@switchfoot http://twitpic.com/2y1zl - Awww, t...</td>\n    </tr>\n    <tr>\n      <th>1</th>\n      <td>0</td>\n      <td>1467810672</td>\n      <td>Mon Apr 06 22:19:49 PDT 2009</td>\n      <td>NO_QUERY</td>\n      <td>scotthamilton</td>\n      <td>is upset that he can't update his Facebook by ...</td>\n    </tr>\n    <tr>\n      <th>2</th>\n      <td>0</td>\n      <td>1467810917</td>\n      <td>Mon Apr 06 22:19:53 PDT 2009</td>\n      <td>NO_QUERY</td>\n      <td>mattycus</td>\n      <td>@Kenichan I dived many times for the ball. Man...</td>\n    </tr>\n    <tr>\n      <th>3</th>\n      <td>0</td>\n      <td>1467811184</td>\n      <td>Mon Apr 06 22:19:57 PDT 2009</td>\n      <td>NO_QUERY</td>\n      <td>ElleCTF</td>\n      <td>my whole body feels itchy and like its on fire</td>\n    </tr>\n    <tr>\n      <th>4</th>\n      <td>0</td>\n      <td>1467811193</td>\n      <td>Mon Apr 06 22:19:57 PDT 2009</td>\n      <td>NO_QUERY</td>\n      <td>Karoli</td>\n      <td>@nationwideclass no, it's not behaving at all....</td>\n    </tr>\n  </tbody>\n</table>\n</div>"
     },
     "execution_count": 10,
     "metadata": {},
     "output_type": "execute_result"
    }
   ],
   "source": [
    "import pandas as pd\n",
    "df = pd.read_csv(r\"sentiment140/training.1600000.processed.noemoticon.csv\",names=[\"sentiment\",\"id\",\"date\",\"query\",\"user\",\"text\"],encoding='latin-1')\n",
    "df.head()"
   ],
   "metadata": {
    "collapsed": false,
    "ExecuteTime": {
     "end_time": "2023-09-21T17:23:06.591605Z",
     "start_time": "2023-09-21T17:23:03.456522Z"
    }
   },
   "id": "932b49979d9817b1"
  },
  {
   "cell_type": "code",
   "execution_count": null,
   "outputs": [],
   "source": [
    "df.isnull().sum()"
   ],
   "metadata": {
    "collapsed": false,
    "ExecuteTime": {
     "start_time": "2023-09-21T17:06:00.290795Z"
    }
   },
   "id": "ffa7ff97050dc84c"
  },
  {
   "cell_type": "code",
   "execution_count": null,
   "outputs": [],
   "source": [
    "df.drop([\"id\",\"date\",\"query\",\"user\"],axis=1,inplace=True)"
   ],
   "metadata": {
    "collapsed": false,
    "ExecuteTime": {
     "start_time": "2023-09-21T17:06:00.319488Z"
    }
   },
   "id": "6ab08b23077f4974"
  },
  {
   "cell_type": "code",
   "execution_count": null,
   "outputs": [],
   "source": [
    "df.head()"
   ],
   "metadata": {
    "collapsed": false,
    "ExecuteTime": {
     "start_time": "2023-09-21T17:06:00.320114Z"
    }
   },
   "id": "d6f036ab942a77a4"
  },
  {
   "cell_type": "code",
   "execution_count": null,
   "outputs": [],
   "source": [
    "import transformers\n",
    "from transformers import AutoTokenizer,pipeline,AutoModelForSequenceClassification\n",
    "model_path = \"cardiffnlp/twitter-roberta-base-sentiment\"\n",
    "sentiment = pipeline(\"sentiment-analysis\", model=model_path, tokenizer=model_path)"
   ],
   "metadata": {
    "collapsed": false,
    "ExecuteTime": {
     "start_time": "2023-09-21T17:06:00.320582Z"
    }
   },
   "id": "b0fe4ddc112710fe"
  },
  {
   "cell_type": "code",
   "execution_count": null,
   "outputs": [],
   "source": [
    "sentiment(\"I am very happy\")"
   ],
   "metadata": {
    "collapsed": false,
    "ExecuteTime": {
     "end_time": "2023-09-21T17:06:00.354731Z",
     "start_time": "2023-09-21T17:06:00.321626Z"
    }
   },
   "id": "36cc7a8288f377e2"
  },
  {
   "cell_type": "code",
   "execution_count": null,
   "outputs": [],
   "source": [
    "sentiment(\"I am very sad\")"
   ],
   "metadata": {
    "collapsed": false,
    "ExecuteTime": {
     "start_time": "2023-09-21T17:06:00.321991Z"
    }
   },
   "id": "bc32b3a6b06604f0"
  },
  {
   "cell_type": "code",
   "execution_count": null,
   "outputs": [],
   "source": [
    "sentiment(\"I am very angry\")"
   ],
   "metadata": {
    "collapsed": false,
    "ExecuteTime": {
     "start_time": "2023-09-21T17:06:00.322345Z"
    }
   },
   "id": "dd104be9dae1ec4"
  },
  {
   "cell_type": "code",
   "execution_count": null,
   "outputs": [],
   "source": [
    "# !python -m spacy download en_core_web_sm -q\n",
    "# Run this if you don't have spacy installed"
   ],
   "metadata": {
    "collapsed": false,
    "ExecuteTime": {
     "start_time": "2023-09-21T17:06:00.337720Z"
    }
   },
   "id": "c24f2404543b9aa2"
  },
  {
   "cell_type": "code",
   "execution_count": null,
   "outputs": [],
   "source": [
    "# %%time\n",
    "# import text_hammer as th\n",
    "# from tqdm._tqdm_notebook import tqdm_notebook\n",
    "# tqdm_notebook.pandas()\n",
    "# def text_preprocessing(df,col_name):\n",
    "#     column = col_name\n",
    "#     df[column] = df[column].progress_apply(lambda x:str(x).lower())\n",
    "#     #     df[column] = df[column].progress_apply(lambda x: th.cont_exp(x))\n",
    "#     #you're -> you are; i'm -> i am\n",
    "#     df[column] = df[column].progress_apply(lambda x: th.remove_emails(x))\n",
    "#     df[column] = df[column].progress_apply(lambda x: th.remove_html_tags(x))\n",
    "#     df[column] = df[column].progress_apply(lambda x: th.remove_special_chars(x))\n",
    "#     df[column] = df[column].progress_apply(lambda x: th.remove_accented_chars(x))\n",
    "#     df[column] = df[column].progress_apply(lambda x: th.make_base(x)) #ran -> run,\n",
    "#     return(df)\n",
    "# \n",
    "# df['text'] = text_preprocessing(df,'text')"
   ],
   "metadata": {
    "collapsed": false,
    "ExecuteTime": {
     "start_time": "2023-09-21T17:06:00.338190Z"
    }
   },
   "id": "7efdfb237c2c1c1a"
  },
  {
   "cell_type": "code",
   "execution_count": null,
   "outputs": [],
   "source": [
    "# import multiprocessing\n",
    "# import time\n",
    "# \n",
    "# def text_preprocessing_worker(text):\n",
    "#     \"\"\"Preprocess text using a specific function.\"\"\"\n",
    "# \n",
    "#     # Preprocess the text using your chosen function\n",
    "#     preprocessed_text = th.cont_exp(text)\n",
    "# \n",
    "#     return preprocessed_text\n",
    "# \n",
    "# # Create a pool of workers to execute the text preprocessing function in parallel\n",
    "# start = time.time()\n",
    "# pool = multiprocessing.Pool(4)\n",
    "# \n",
    "# # Apply the text preprocessing function to each text in the DataFrame using the pool of workers\n",
    "# preprocessed_texts = pool.map(text_preprocessing_worker, df['text'])\n",
    "# \n",
    "# # Add the preprocessed texts to the DataFrame\n",
    "# df['text'] = preprocessed_texts\n",
    "# \n",
    "# # Close the pool of workers\n",
    "# pool.close()\n",
    "# print(time.time() - start)\n"
   ],
   "metadata": {
    "collapsed": false,
    "ExecuteTime": {
     "start_time": "2023-09-21T17:06:00.338761Z"
    }
   },
   "id": "fe0adfac35b294b7"
  },
  {
   "cell_type": "code",
   "execution_count": null,
   "outputs": [],
   "source": [
    "%%time\n",
    "import unicodedata\n",
    "from tqdm._tqdm_notebook import tqdm_notebook\n",
    "\n",
    "def vectorized_text_preprocessing_tqdm(df, col_name):\n",
    "    \"\"\"\n",
    "    Performs text preprocessing on a Pandas DataFrame column using vectorized operations and shows the progress bar.\n",
    "\n",
    "    Args:\n",
    "        df: A Pandas DataFrame.\n",
    "        col_name: The name of the column to preprocess.\n",
    "\n",
    "    Returns:\n",
    "        A Pandas DataFrame with the preprocessed column.\n",
    "    \"\"\"\n",
    "\n",
    "    # Show the progress bar.\n",
    "    tqdm_notebook.pandas()\n",
    "\n",
    "    # Convert the column to lowercase.\n",
    "    df[col_name] = df[col_name].progress_apply(lambda x: x.lower())\n",
    "\n",
    "    # Remove emails, HTML tags, special characters, and accented characters.\n",
    "    df[col_name] = df[col_name].progress_apply(lambda x: x.replace(r\"[a-zA-Z0-9_.+-]+@[a-zA-Z0-9-]+\\.[a-zA-Z0-9-.]+\", \"\"))\n",
    "    df[col_name] = df[col_name].progress_apply(lambda x: x.replace(r\"<[^>]*>\", \"\"))\n",
    "    df[col_name] = df[col_name].progress_apply(lambda x: x.replace(r\"[^\\w\\s]\", \"\"))\n",
    "    df[col_name] = df[col_name].progress_apply(lambda x: unicodedata.normalize(\"NFKD\", x).encode(\"ascii\", errors=\"ignore\").decode(\"ascii\"))\n",
    "\n",
    "    # Make the text base form.\n",
    "    df[col_name] = df[col_name].progress_apply(lambda x: \" \".join(x.split()))\n",
    "\n",
    "    return df\n",
    "\n",
    "\n",
    "\n",
    "# Preprocess the text column using the vectorized approach with progress bar.\n",
    "df['text'] = vectorized_text_preprocessing_tqdm(df, \"text\")"
   ],
   "metadata": {
    "collapsed": false,
    "ExecuteTime": {
     "start_time": "2023-09-21T17:06:00.339988Z"
    }
   },
   "id": "a12e77177f2db6c4"
  },
  {
   "cell_type": "code",
   "execution_count": null,
   "outputs": [],
   "source": [],
   "metadata": {
    "collapsed": false,
    "ExecuteTime": {
     "start_time": "2023-09-21T17:06:00.340731Z"
    }
   },
   "id": "4e5d8c632755b7ec"
  },
  {
   "cell_type": "code",
   "execution_count": null,
   "outputs": [],
   "source": [
    "df.to_csv(r\"C:\\Users\\kausikdevanathan\\DataspellProjects\\sentimentAnalysis\\sentiment140\\preprocessed.csv\")"
   ],
   "metadata": {
    "collapsed": false,
    "ExecuteTime": {
     "start_time": "2023-09-21T17:06:00.341502Z"
    }
   },
   "id": "fdd9561484c9fb51"
  },
  {
   "cell_type": "code",
   "execution_count": null,
   "outputs": [],
   "source": [
    "df['sentiment'].value_counts()"
   ],
   "metadata": {
    "collapsed": false,
    "ExecuteTime": {
     "start_time": "2023-09-21T17:06:00.342237Z"
    }
   },
   "id": "efa9e9bd66b802da"
  },
  {
   "cell_type": "code",
   "execution_count": null,
   "outputs": [],
   "source": [
    "from sklearn.model_selection import train_test_split,KFold,StratifiedKFold\n",
    "from sklearn.metrics import accuracy_score,classification_report,confusion_matrix\n",
    "\n",
    "X = df[\"text\"]\n",
    "y = df[\"sentiment\"]\n",
    "\n",
    "X_train, X_test_val, y_train, y_test_val = train_test_split(X, y, test_size=0.30, random_state=42)\n",
    "\n",
    "# Split the test-validation set into test and validation sets\n",
    "X_test, X_val, y_test, y_val = train_test_split(X_test_val, y_test_val, test_size=0.50, random_state=42)\n",
    "\n",
    "# Save the train, test, and validation sets to disk\n",
    "X_train.to_csv(r\"C:\\Users\\kausikdevanathan\\DataspellProjects\\sentimentAnalysis\\train_val_test_data\\train.csv\", index=False)\n",
    "X_test.to_csv(r\"C:\\Users\\kausikdevanathan\\DataspellProjects\\sentimentAnalysis\\train_val_test_data\\test.csv\", index=False)\n",
    "X_val.to_csv(r\"C:\\Users\\kausikdevanathan\\DataspellProjects\\sentimentAnalysis\\train_val_test_data\\validation.csv\", index=False)\n",
    "y_train.to_csv(r\"C:\\Users\\kausikdevanathan\\DataspellProjects\\sentimentAnalysis\\train_val_test_data\\train_labels.csv\", index=False)\n",
    "y_test.to_csv(r\"C:\\Users\\kausikdevanathan\\DataspellProjects\\sentimentAnalysis\\train_val_test_data\\test_labels.csv\", index=False)\n",
    "y_val.to_csv(r\"C:\\Users\\kausikdevanathan\\DataspellProjects\\sentimentAnalysis\\train_val_test_data\\validation_labels.csv\", index=False)"
   ],
   "metadata": {
    "collapsed": false,
    "ExecuteTime": {
     "start_time": "2023-09-21T17:06:00.343370Z"
    }
   },
   "id": "dc1303620ecfc998"
  },
  {
   "cell_type": "code",
   "execution_count": null,
   "outputs": [],
   "source": [
    "import datasets\n",
    "\n",
    "dataset = datasets.load_dataset(\n",
    "    \"csv\",\n",
    "    data_files={\n",
    "        \"train\": r\"C:\\Users\\kausikdevanathan\\DataspellProjects\\sentimentAnalysis\\train_val_test_data\\train.csv\",\n",
    "        \"test\": r\"C:\\Users\\kausikdevanathan\\DataspellProjects\\sentimentAnalysis\\train_val_test_data\\test.csv\",\n",
    "        \"validation\": r\"C:\\Users\\kausikdevanathan\\DataspellProjects\\sentimentAnalysis\\train_val_test_data\\validation.csv\",\n",
    "    },\n",
    "    column_names=[\"text\", \"label\"],\n",
    "    cache_dir=\"\",\n",
    ")\n",
    "\n"
   ],
   "metadata": {
    "collapsed": false,
    "ExecuteTime": {
     "start_time": "2023-09-21T17:06:00.343808Z"
    }
   },
   "id": "b653bfb2a4891045"
  },
  {
   "cell_type": "code",
   "execution_count": null,
   "outputs": [],
   "source": [
    "dataset['train']"
   ],
   "metadata": {
    "collapsed": false,
    "ExecuteTime": {
     "end_time": "2023-09-21T17:06:00.370912Z",
     "start_time": "2023-09-21T17:06:00.364790Z"
    }
   },
   "id": "5651b260c751d491"
  },
  {
   "cell_type": "code",
   "execution_count": null,
   "outputs": [],
   "source": [
    "from transformers import Trainer,enable_full_determinism\n",
    "enable_full_determinism(seed=42)\n",
    "\n",
    "# dataset.full_determinism = False\n",
    "trainer = Trainer(\n",
    "    model=model_path,\n",
    "    args={\n",
    "        \"num_train_epochs\": 3,\n",
    "        \"learning_rate\": 5e-5,\n",
    "        \"evaluation_strategy\": \"epoch\",\n",
    "        \"per_device_train_batch_size\": 32,\n",
    "        \"per_device_eval_batch_size\": 32,\n",
    "        \"logging_steps\": 100,\n",
    "        \"weight_decay\": 0.01,\n",
    "        \"load_best_model_at_end\": True,\n",
    "        \"metric_for_best_model\": \"accuracy\",\n",
    "    },\n",
    "    train_dataset=dataset[\"train\"],\n",
    "    eval_dataset=dataset[\"validation\"],\n",
    "    tokenizer=model_path\n",
    ")"
   ],
   "metadata": {
    "collapsed": false,
    "ExecuteTime": {
     "start_time": "2023-09-21T17:06:00.365329Z"
    }
   },
   "id": "dd6942170cd007e8"
  },
  {
   "cell_type": "code",
   "execution_count": null,
   "outputs": [],
   "source": [
    "import transformers\n",
    "\n",
    "from transformers import AutoTokenizer, TrainingArguments, Trainer,enable_full_determinism\n",
    "\n",
    "enable_full_determinism(seed=42)\n",
    "\n",
    "model_path = \"cardiffnlp/twitter-roberta-base-sentiment\"\n",
    "\n",
    "# Load the tokenizer and model\n",
    "tokenizer = AutoTokenizer.from_pretrained(model_path)\n",
    "model = AutoModelForSequenceClassification.from_pretrained(model_path)\n",
    "\n",
    "# Set the training arguments\n",
    "training_args = TrainingArguments(\n",
    "    output_dir=\"models\",\n",
    "    evaluation_strategy=\"epoch\",\n",
    "    save_strategy=\"epoch\",\n",
    "    num_train_epochs=3,\n",
    "    per_device_train_batch_size=32,\n",
    "    per_device_eval_batch_size=32,\n",
    "    logging_steps=100,\n",
    "    weight_decay=0.01,\n",
    "    load_best_model_at_end=True,\n",
    "    metric_for_best_model=\"accuracy\",\n",
    ")\n",
    "\n",
    "# Create a trainer\n",
    "trainer = Trainer(\n",
    "    model=model,\n",
    "    args=training_args,\n",
    "    train_dataset=dataset[\"train\"],\n",
    "    eval_dataset=dataset[\"validation\"],\n",
    ")\n",
    "\n",
    "# Train the model\n",
    "trainer.train()\n",
    "\n",
    "# Evaluate the model\n",
    "trainer.evaluate()\n"
   ],
   "metadata": {
    "collapsed": false,
    "ExecuteTime": {
     "start_time": "2023-09-21T17:06:00.365791Z"
    }
   },
   "id": "43727134d7f3790e"
  },
  {
   "cell_type": "code",
   "execution_count": null,
   "outputs": [],
   "source": [
    "from transformers import TrainingArguments, Trainer, enable_full_determinism\n",
    "enable_full_determinism(seed=42)\n",
    "\n",
    "# Set the training arguments\n",
    "training_args = TrainingArguments(\n",
    "    output_dir=\"models\",\n",
    "    evaluation_strategy=\"epoch\",\n",
    "    save_strategy=\"epoch\",\n",
    "    num_train_epochs=3,\n",
    "    per_device_train_batch_size=32,\n",
    "    per_device_eval_batch_size=32,\n",
    "    logging_steps=100,\n",
    "    weight_decay=0.01,\n",
    "    load_best_model_at_end=True,\n",
    "    metric_for_best_model=\"accuracy\",\n",
    ")\n",
    "\n",
    "# Create a trainer\n",
    "trainer = Trainer(\n",
    "    model=sentiment,\n",
    "    args=training_args,\n",
    "    train_dataset=dataset[\"train\"],\n",
    "    eval_dataset=dataset[\"validation\"],\n",
    ")\n",
    "\n",
    "# Train the model\n",
    "trainer.train()\n",
    "\n",
    "# Evaluate the model\n",
    "trainer.evaluate()\n"
   ],
   "metadata": {
    "collapsed": false,
    "ExecuteTime": {
     "start_time": "2023-09-21T17:06:00.366226Z"
    }
   },
   "id": "550c7ed608d2b8f"
  },
  {
   "cell_type": "code",
   "execution_count": null,
   "outputs": [],
   "source": [
    "!pip install accelerate -U "
   ],
   "metadata": {
    "collapsed": false,
    "ExecuteTime": {
     "start_time": "2023-09-21T17:06:00.366625Z"
    }
   },
   "id": "1e5172d50d5217d9"
  },
  {
   "cell_type": "code",
   "execution_count": null,
   "outputs": [],
   "source": [
    "# Load model directly\n",
    "from transformers import AutoTokenizer, AutoModelForSequenceClassification\n",
    "\n",
    "tokenizer = AutoTokenizer.from_pretrained(\"cardiffnlp/twitter-roberta-base-sentiment-latest\")\n",
    "model = AutoModelForSequenceClassification.from_pretrained(\"cardiffnlp/twitter-roberta-base-sentiment-latest\")"
   ],
   "metadata": {
    "collapsed": false,
    "ExecuteTime": {
     "start_time": "2023-09-21T17:06:00.367088Z"
    }
   },
   "id": "727d12c869c2db81"
  },
  {
   "cell_type": "code",
   "execution_count": null,
   "outputs": [],
   "source": [
    "model_path = \"cardiffnlp/twitter-roberta-base-sentiment-latest\""
   ],
   "metadata": {
    "collapsed": false,
    "ExecuteTime": {
     "start_time": "2023-09-21T17:06:00.368147Z"
    }
   },
   "id": "322ca9bee8baa343"
  },
  {
   "cell_type": "code",
   "execution_count": null,
   "outputs": [],
   "source": [
    "# import datasets\n",
    "# dataset = datasets.load_dataset(\"sentiment140\", split=\"train\")\n",
    "# import datasets\n",
    "\n",
    "# dataset = datasets.load_dataset(\"sentiment140\",encode=\"latin-1\", split=\"train\")\n",
    "dataset = datasets.load_dataset(\n",
    "    \"csv\",\n",
    "    data_files={\n",
    "        \"train\": r\"C:\\Users\\kausikdevanathan\\DataspellProjects\\sentimentAnalysis\\train_val_test_data\\train.csv\",\n",
    "        \"test\": r\"C:\\Users\\kausikdevanathan\\DataspellProjects\\sentimentAnalysis\\train_val_test_data\\test.csv\",\n",
    "        \"validation\": r\"C:\\Users\\kausikdevanathan\\DataspellProjects\\sentimentAnalysis\\train_val_test_data\\validation.csv\",\n",
    "    },\n",
    "    column_names=[\"text\", \"label\"],\n",
    "    cache_dir=\"\",\n",
    ")\n",
    "# tokenizer = transformers.AutoTokenizer.from_pretrained(\"cardiffnlp/twitter-roberta-base-sentiment\",padding=True, truncation=True, max_length=128)\n",
    "\n",
    "preprocessed_dataset = []\n",
    "for tweet, label in zip(dataset[\"train\"][\"text\"], dataset[\"validation\"][\"label\"]):\n",
    "    input_ids = tokenizer(tweet, return_tensors=\"pt\").input_ids\n",
    "    preprocessed_dataset.append({\"input_ids\": input_ids, \"labels\": label})\n"
   ],
   "metadata": {
    "collapsed": false,
    "ExecuteTime": {
     "start_time": "2023-09-21T17:06:00.368674Z"
    }
   },
   "id": "65fa35057d8350e5"
  },
  {
   "cell_type": "code",
   "execution_count": null,
   "outputs": [],
   "source": [
    "!pip install GPUtil -q\n",
    "import GPUtil\n",
    "\n",
    "for gpu in GPUtil.getGPUs():\n",
    "    print(\"GPU Name:\", gpu.name)\n",
    "    print(\"GPU Memory Total [GB]:\", gpu.memoryTotal / 1e9)\n"
   ],
   "metadata": {
    "collapsed": false,
    "ExecuteTime": {
     "start_time": "2023-09-21T17:06:00.369182Z"
    }
   },
   "id": "55464ba2fc1e7edc"
  },
  {
   "cell_type": "code",
   "execution_count": null,
   "outputs": [],
   "source": [
    "!pip install torch torchvision torchaudio cudatoolkit"
   ],
   "metadata": {
    "collapsed": false,
    "ExecuteTime": {
     "start_time": "2023-09-21T17:06:00.369536Z"
    }
   },
   "id": "a72ba84464859a7e"
  },
  {
   "cell_type": "code",
   "execution_count": null,
   "outputs": [],
   "source": [
    "import torch\n",
    "\n",
    "print(\"GPU Device Name:\", torch.cuda.get_device_name(0))\n",
    "print(\"GPU Device Total Memory [GB]:\", torch.cuda.get_device_properties(0).total_memory / 1e9)\n"
   ],
   "metadata": {
    "collapsed": false,
    "ExecuteTime": {
     "start_time": "2023-09-21T17:06:00.370027Z"
    }
   },
   "id": "310141a90534f012"
  },
  {
   "cell_type": "code",
   "execution_count": null,
   "outputs": [],
   "source": [
    "from transformers import TrainingArguments, Trainer\n",
    "\n",
    "training_args = TrainingArguments(\n",
    "    output_dir=\"models\",\n",
    "    evaluation_strategy=\"epoch\",\n",
    "    save_strategy=\"epoch\",\n",
    "    num_train_epochs=3,\n",
    "    per_device_train_batch_size=32,\n",
    "    per_device_eval_batch_size=32,\n",
    "    logging_steps=100,\n",
    "    weight_decay=0.01,\n",
    "    load_best_model_at_end=True,\n",
    "    metric_for_best_model=\"accuracy\"\n",
    ")\n",
    "\n",
    "trainer = Trainer(\n",
    "model=model,\n",
    "args=training_args,\n",
    "train_dataset=preprocessed_dataset,\n",
    ")\n",
    "\n",
    "trainer.train()\n"
   ],
   "metadata": {
    "collapsed": false,
    "ExecuteTime": {
     "start_time": "2023-09-21T17:06:00.370378Z"
    }
   },
   "id": "2ed7aca430fecee0"
  },
  {
   "cell_type": "code",
   "execution_count": null,
   "outputs": [],
   "source": [
    "# Setting up the device for GPU usage\n",
    "\n",
    "from torch import cuda\n",
    "device = 'cuda' if cuda.is_available() else 'cpu'"
   ],
   "metadata": {
    "collapsed": false,
    "ExecuteTime": {
     "end_time": "2023-09-21T17:06:00.375578Z",
     "start_time": "2023-09-21T17:06:00.371312Z"
    }
   },
   "id": "61a1c5c45aadca78"
  },
  {
   "cell_type": "code",
   "execution_count": null,
   "outputs": [],
   "source": [
    "device"
   ],
   "metadata": {
    "collapsed": false,
    "ExecuteTime": {
     "start_time": "2023-09-21T17:06:00.371647Z"
    }
   },
   "id": "5ceaffea41a9ea4"
  },
  {
   "cell_type": "code",
   "execution_count": null,
   "outputs": [],
   "source": [],
   "metadata": {
    "collapsed": false,
    "ExecuteTime": {
     "start_time": "2023-09-21T17:06:00.371892Z"
    }
   },
   "id": "a1388ac0cebe2745"
  }
 ],
 "metadata": {
  "kernelspec": {
   "display_name": "Python 3",
   "language": "python",
   "name": "python3"
  },
  "language_info": {
   "codemirror_mode": {
    "name": "ipython",
    "version": 2
   },
   "file_extension": ".py",
   "mimetype": "text/x-python",
   "name": "python",
   "nbconvert_exporter": "python",
   "pygments_lexer": "ipython2",
   "version": "2.7.6"
  }
 },
 "nbformat": 4,
 "nbformat_minor": 5
}
